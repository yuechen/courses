{
 "cells": [
  {
   "cell_type": "markdown",
   "metadata": {
    "colab_type": "text",
    "id": "4embtkV0pNxM"
   },
   "source": [
    "Deep Learning\n",
    "=============\n",
    "\n",
    "Assignment 4\n",
    "------------\n",
    "\n",
    "Previously in `2_fullyconnected.ipynb` and `3_regularization.ipynb`, we trained fully connected networks to classify [notMNIST](http://yaroslavvb.blogspot.com/2011/09/notmnist-dataset.html) characters.\n",
    "\n",
    "The goal of this assignment is make the neural network convolutional."
   ]
  },
  {
   "cell_type": "code",
   "execution_count": 41,
   "metadata": {
    "cellView": "both",
    "colab": {
     "autoexec": {
      "startup": false,
      "wait_interval": 0
     }
    },
    "colab_type": "code",
    "id": "tm2CQN_Cpwj0"
   },
   "outputs": [],
   "source": [
    "# These are all the modules we'll be using later. Make sure you can import them\n",
    "# before proceeding further.\n",
    "from __future__ import print_function\n",
    "import numpy as np\n",
    "import tensorflow as tf\n",
    "import math\n",
    "from six.moves import cPickle as pickle\n",
    "from six.moves import range"
   ]
  },
  {
   "cell_type": "code",
   "execution_count": 9,
   "metadata": {
    "cellView": "both",
    "colab": {
     "autoexec": {
      "startup": false,
      "wait_interval": 0
     },
     "output_extras": [
      {
       "item_id": 1
      }
     ]
    },
    "colab_type": "code",
    "executionInfo": {
     "elapsed": 11948,
     "status": "ok",
     "timestamp": 1446658914837,
     "user": {
      "color": "",
      "displayName": "",
      "isAnonymous": false,
      "isMe": true,
      "permissionId": "",
      "photoUrl": "",
      "sessionId": "0",
      "userId": ""
     },
     "user_tz": 480
    },
    "id": "y3-cj1bpmuxc",
    "outputId": "016b1a51-0290-4b08-efdb-8c95ffc3cd01"
   },
   "outputs": [
    {
     "name": "stdout",
     "output_type": "stream",
     "text": [
      "Training set (200000, 28, 28) (200000,)\n",
      "Validation set (10000, 28, 28) (10000,)\n",
      "Test set (10000, 28, 28) (10000,)\n"
     ]
    }
   ],
   "source": [
    "pickle_file = 'notMNIST.pickle'\n",
    "\n",
    "with open(pickle_file, 'rb') as f:\n",
    "  save = pickle.load(f)\n",
    "  train_dataset = save['train_dataset']\n",
    "  train_labels = save['train_labels']\n",
    "  valid_dataset = save['valid_dataset']\n",
    "  valid_labels = save['valid_labels']\n",
    "  test_dataset = save['test_dataset']\n",
    "  test_labels = save['test_labels']\n",
    "  del save  # hint to help gc free up memory\n",
    "  print('Training set', train_dataset.shape, train_labels.shape)\n",
    "  print('Validation set', valid_dataset.shape, valid_labels.shape)\n",
    "  print('Test set', test_dataset.shape, test_labels.shape)"
   ]
  },
  {
   "cell_type": "markdown",
   "metadata": {
    "colab_type": "text",
    "id": "L7aHrm6nGDMB"
   },
   "source": [
    "Reformat into a TensorFlow-friendly shape:\n",
    "- convolutions need the image data formatted as a cube (width by height by #channels)\n",
    "- labels as float 1-hot encodings."
   ]
  },
  {
   "cell_type": "code",
   "execution_count": 10,
   "metadata": {
    "cellView": "both",
    "colab": {
     "autoexec": {
      "startup": false,
      "wait_interval": 0
     },
     "output_extras": [
      {
       "item_id": 1
      }
     ]
    },
    "colab_type": "code",
    "executionInfo": {
     "elapsed": 11952,
     "status": "ok",
     "timestamp": 1446658914857,
     "user": {
      "color": "",
      "displayName": "",
      "isAnonymous": false,
      "isMe": true,
      "permissionId": "",
      "photoUrl": "",
      "sessionId": "0",
      "userId": ""
     },
     "user_tz": 480
    },
    "id": "IRSyYiIIGIzS",
    "outputId": "650a208c-8359-4852-f4f5-8bf10e80ef6c"
   },
   "outputs": [
    {
     "name": "stdout",
     "output_type": "stream",
     "text": [
      "Training set (200000, 28, 28, 1) (200000, 10)\n",
      "Validation set (10000, 28, 28, 1) (10000, 10)\n",
      "Test set (10000, 28, 28, 1) (10000, 10)\n"
     ]
    }
   ],
   "source": [
    "image_size = 28\n",
    "num_labels = 10\n",
    "num_channels = 1 # grayscale\n",
    "\n",
    "import numpy as np\n",
    "\n",
    "def reformat(dataset, labels):\n",
    "  dataset = dataset.reshape(\n",
    "    (-1, image_size, image_size, num_channels)).astype(np.float32)\n",
    "  labels = (np.arange(num_labels) == labels[:,None]).astype(np.float32)\n",
    "  return dataset, labels\n",
    "train_dataset, train_labels = reformat(train_dataset, train_labels)\n",
    "valid_dataset, valid_labels = reformat(valid_dataset, valid_labels)\n",
    "test_dataset, test_labels = reformat(test_dataset, test_labels)\n",
    "print('Training set', train_dataset.shape, train_labels.shape)\n",
    "print('Validation set', valid_dataset.shape, valid_labels.shape)\n",
    "print('Test set', test_dataset.shape, test_labels.shape)"
   ]
  },
  {
   "cell_type": "code",
   "execution_count": 11,
   "metadata": {
    "cellView": "both",
    "colab": {
     "autoexec": {
      "startup": false,
      "wait_interval": 0
     }
    },
    "colab_type": "code",
    "id": "AgQDIREv02p1"
   },
   "outputs": [],
   "source": [
    "def accuracy(predictions, labels):\n",
    "  return (100.0 * np.sum(np.argmax(predictions, 1) == np.argmax(labels, 1))\n",
    "          / predictions.shape[0])"
   ]
  },
  {
   "cell_type": "markdown",
   "metadata": {
    "colab_type": "text",
    "id": "5rhgjmROXu2O"
   },
   "source": [
    "Let's build a small network with two convolutional layers, followed by one fully connected layer. Convolutional networks are more expensive computationally, so we'll limit its depth and number of fully connected nodes."
   ]
  },
  {
   "cell_type": "code",
   "execution_count": 9,
   "metadata": {
    "cellView": "both",
    "colab": {
     "autoexec": {
      "startup": false,
      "wait_interval": 0
     }
    },
    "colab_type": "code",
    "id": "IZYv70SvvOan"
   },
   "outputs": [],
   "source": [
    "batch_size = 16\n",
    "patch_size = 5\n",
    "depth = 16\n",
    "num_hidden = 64\n",
    "\n",
    "graph = tf.Graph()\n",
    "\n",
    "with graph.as_default():\n",
    "\n",
    "  # Input data.\n",
    "  tf_train_dataset = tf.placeholder(\n",
    "    tf.float32, shape=(batch_size, image_size, image_size, num_channels))\n",
    "  tf_train_labels = tf.placeholder(tf.float32, shape=(batch_size, num_labels))\n",
    "  tf_valid_dataset = tf.constant(valid_dataset)\n",
    "  tf_test_dataset = tf.constant(test_dataset)\n",
    "  \n",
    "  # Variables.\n",
    "  layer1_weights = tf.Variable(tf.truncated_normal(\n",
    "      [patch_size, patch_size, num_channels, depth], stddev=0.1))\n",
    "  layer1_biases = tf.Variable(tf.zeros([depth]))\n",
    "  layer2_weights = tf.Variable(tf.truncated_normal(\n",
    "      [patch_size, patch_size, depth, depth], stddev=0.1))\n",
    "  layer2_biases = tf.Variable(tf.constant(1.0, shape=[depth]))\n",
    "  layer3_weights = tf.Variable(tf.truncated_normal(\n",
    "      [image_size // 4 * image_size // 4 * depth, num_hidden], stddev=0.1))\n",
    "  layer3_biases = tf.Variable(tf.constant(1.0, shape=[num_hidden]))\n",
    "  layer4_weights = tf.Variable(tf.truncated_normal(\n",
    "      [num_hidden, num_labels], stddev=0.1))\n",
    "  layer4_biases = tf.Variable(tf.constant(1.0, shape=[num_labels]))\n",
    "  \n",
    "  # Model.\n",
    "  def model(data):\n",
    "    conv = tf.nn.conv2d(data, layer1_weights, [1, 2, 2, 1], padding='SAME')\n",
    "    hidden = tf.nn.relu(conv + layer1_biases)\n",
    "    conv = tf.nn.conv2d(hidden, layer2_weights, [1, 2, 2, 1], padding='SAME')\n",
    "    hidden = tf.nn.relu(conv + layer2_biases)\n",
    "    shape = hidden.get_shape().as_list()\n",
    "    reshape = tf.reshape(hidden, [shape[0], shape[1] * shape[2] * shape[3]])\n",
    "    hidden = tf.nn.relu(tf.matmul(reshape, layer3_weights) + layer3_biases)\n",
    "    return tf.matmul(hidden, layer4_weights) + layer4_biases\n",
    "  \n",
    "  # Training computation.\n",
    "  logits = model(tf_train_dataset)\n",
    "  loss = tf.reduce_mean(\n",
    "    tf.nn.softmax_cross_entropy_with_logits(labels=tf_train_labels, logits=logits))\n",
    "    \n",
    "  # Optimizer.\n",
    "  optimizer = tf.train.GradientDescentOptimizer(0.05).minimize(loss)\n",
    "  \n",
    "  # Predictions for the training, validation, and test data.\n",
    "  train_prediction = tf.nn.softmax(logits)\n",
    "  valid_prediction = tf.nn.softmax(model(tf_valid_dataset))\n",
    "  test_prediction = tf.nn.softmax(model(tf_test_dataset))"
   ]
  },
  {
   "cell_type": "code",
   "execution_count": null,
   "metadata": {
    "cellView": "both",
    "colab": {
     "autoexec": {
      "startup": false,
      "wait_interval": 0
     },
     "output_extras": [
      {
       "item_id": 37
      }
     ]
    },
    "colab_type": "code",
    "executionInfo": {
     "elapsed": 63292,
     "status": "ok",
     "timestamp": 1446658966251,
     "user": {
      "color": "",
      "displayName": "",
      "isAnonymous": false,
      "isMe": true,
      "permissionId": "",
      "photoUrl": "",
      "sessionId": "0",
      "userId": ""
     },
     "user_tz": 480
    },
    "id": "noKFb2UovVFR",
    "outputId": "28941338-2ef9-4088-8bd1-44295661e628"
   },
   "outputs": [],
   "source": [
    "num_steps = 1001\n",
    "\n",
    "with tf.Session(graph=graph) as session:\n",
    "  tf.global_variables_initializer().run()\n",
    "  print('Initialized')\n",
    "  for step in range(num_steps):\n",
    "    offset = (step * batch_size) % (train_labels.shape[0] - batch_size)\n",
    "    batch_data = train_dataset[offset:(offset + batch_size), :, :, :]\n",
    "    batch_labels = train_labels[offset:(offset + batch_size), :]\n",
    "    feed_dict = {tf_train_dataset : batch_data, tf_train_labels : batch_labels}\n",
    "    _, l, predictions = session.run(\n",
    "      [optimizer, loss, train_prediction], feed_dict=feed_dict)\n",
    "    if (step % 50 == 0):\n",
    "      print('Minibatch loss at step %d: %f' % (step, l))\n",
    "      print('Minibatch accuracy: %.1f%%' % accuracy(predictions, batch_labels))\n",
    "      print('Validation accuracy: %.1f%%' % accuracy(\n",
    "        valid_prediction.eval(), valid_labels))\n",
    "  print('Test accuracy: %.1f%%' % accuracy(test_prediction.eval(), test_labels))"
   ]
  },
  {
   "cell_type": "markdown",
   "metadata": {
    "colab_type": "text",
    "id": "KedKkn4EutIK"
   },
   "source": [
    "---\n",
    "Problem 1\n",
    "---------\n",
    "\n",
    "The convolutional model above uses convolutions with stride 2 to reduce the dimensionality. Replace the strides by a max pooling operation (`nn.max_pool()`) of stride 2 and kernel size 2.\n",
    "\n",
    "---"
   ]
  },
  {
   "cell_type": "code",
   "execution_count": 98,
   "metadata": {},
   "outputs": [],
   "source": [
    "from enum import Enum\n",
    "\n",
    "class LayerType(Enum):\n",
    "    INPUT = 0\n",
    "    FULLY_CONNECTED = 1\n",
    "    CONVOLUTION = 2\n",
    "    POOLING = 3\n",
    "    OUTPUT = 4\n",
    "\n",
    "class InputLayer(object):\n",
    "    def __init__(self, data_shape, n_height, n_width = 0, depth = None):\n",
    "        self.type = LayerType.INPUT\n",
    "        self.data_shape = data_shape\n",
    "        self.n_height = n_height\n",
    "        self.n_width = n_width\n",
    "        self.depth = depth\n",
    "    \n",
    "class FullyConnectedLayer(object):\n",
    "    def __init__(self, n_height):\n",
    "        self.type = LayerType.FULLY_CONNECTED\n",
    "        self.n_height = n_height\n",
    "        self.depth = None\n",
    "\n",
    "class ConvolutionLayer(object):\n",
    "    # depth = output depth after convolution\n",
    "    def __init__(self, ksize, stride, depth, padding):\n",
    "        self.type = LayerType.CONVOLUTION\n",
    "        self.ksize = ksize\n",
    "        self.stride = stride\n",
    "        self.depth = depth\n",
    "        self.padding = padding\n",
    "\n",
    "class PoolingLayer(object):\n",
    "    def __init__(self, ksize, stride, padding, depth = None):\n",
    "        self.type = LayerType.POOLING\n",
    "        self.ksize = ksize\n",
    "        self.stride = stride\n",
    "        self.padding = padding\n",
    "        self.depth = None\n",
    "        \n",
    "class OutputLayer(object):\n",
    "    def __init__(self, n_height):\n",
    "        self.type = LayerType.OUTPUT\n",
    "        self.n_height = n_height\n",
    "        \n",
    "class Classifier(object):\n",
    "    \"\"\"\n",
    "    A classifier object.\n",
    "    \n",
    "    batch_size = size per batch\n",
    "    epochs = number of epochs to train for\n",
    "    print_loss_interval = how often losses are printed to the screen during training, defined as # of training steps\n",
    "    max_iter = maximum number of iterations to train for\n",
    "    learning_rate = the learning rate alpha\n",
    "    reg_lambda = the L2 regularization parameter lambda\n",
    "    name = the name for this classifier, which is used as an unique identifier in storing the trained parameters\n",
    "    \"\"\"\n",
    "    def __init__(self, layers, batch_size = 128, epochs = 2, print_loss_interval = 500, max_iter = None,\n",
    "                 learning_rate = 0.001, learn_decay_rate = 0, learn_decay_steps = 5000,\n",
    "                 reg_lambda = 0.5, dropout_rate = 0, name = 'classifier'):\n",
    "        self.name = name\n",
    "        self.savefile = './models/notebook4/' + ''.join(c for c in name if c.isalnum() or c in ['_', '-']) + '.model'\n",
    "        self.layers = layers\n",
    "        self.learning_rate = learning_rate\n",
    "        self.learn_decay_rate = learn_decay_rate\n",
    "        self.learn_decay_steps = learn_decay_steps\n",
    "        self.reg_lambda = reg_lambda\n",
    "        self.dropout_rate = dropout_rate\n",
    "        self.batch_size = batch_size\n",
    "        self.epochs = epochs\n",
    "        self.print_loss_interval = print_loss_interval\n",
    "        self.max_iter = max_iter\n",
    "        \n",
    "        self.graph = tf.Graph()\n",
    "        with self.graph.as_default():\n",
    "            self.tf_train_X = tf.placeholder(tf.float32, shape=[None] + self.layers[0].data_shape, name = \"tf_train_X\")\n",
    "            self.tf_train_Y = tf.placeholder(tf.float32, shape=[None, self.layers[-1].n_height], name = \"tf_train_Y\")\n",
    "            self.tf_valid_X = tf.placeholder(tf.float32, shape=[None] + self.layers[0].data_shape, name = \"tf_valid_X\")\n",
    "            m = tf.to_float(tf.shape(self.tf_train_X)[0])\n",
    "\n",
    "            # Initialize weights and biases variables\n",
    "            self.weights = [None] * len(self.layers)\n",
    "            self.biases = [None] * len(self.layers)\n",
    "            for i in range(1, len(self.layers)):\n",
    "                layer = self.layers[i]\n",
    "                \n",
    "                if layer.type == LayerType.FULLY_CONNECTED or layer.type == LayerType.OUTPUT:\n",
    "                    # first, check depth to see if last layer has a depth (result from convolution) to define shape\n",
    "                    if self.layers[i-1].depth is not None:\n",
    "                        shape = (self.layers[i-1].n_height * self.layers[i-1].n_width * self.layers[i-1].depth, layer.n_height)\n",
    "                    else:\n",
    "                        shape = (self.layers[i-1].n_height, layer.n_height)\n",
    "                    \n",
    "                    # stddev for this layer's initialized weights\n",
    "                    stddev = np.sqrt(2.0 / self.layers[i-1].n_height)\n",
    "\n",
    "                    # initialize weights and biases\n",
    "                    self.weights[i] = tf.Variable(tf.random_normal(shape, stddev = stddev), name = 'W' + str(i))\n",
    "                    self.biases[i] = tf.Variable(tf.zeros((layer.n_height)), name = 'b' + str(i))\n",
    "                \n",
    "                if layer.type == LayerType.CONVOLUTION or layer.type == LayerType.POOLING:\n",
    "                    # first, check that previous layer has right dimensions for convolution\n",
    "                    if self.layers[i-1].depth is None:\n",
    "                        raise ValueError(\"Cannot perform convolution for layer %d because the previous layer isn't compatible.\")\n",
    "                                        \n",
    "                    # save the expected output size \n",
    "                    if layer.padding == 'SAME':\n",
    "                        layer.n_height = math.ceil(self.layers[i-1].n_height / layer.stride)\n",
    "                        layer.n_width = math.ceil(self.layers[i-1].n_width / layer.stride)\n",
    "                    else:\n",
    "                        layer.n_height = math.ceil((self.layers[i-1].n_height - layer.ksize + 1) / layer.stride)\n",
    "                        layer.n_width = math.ceil((self.layers[i-1].n_width - layer.ksize + 1) / layer.stride)\n",
    "                    \n",
    "                    # only initialize weights and biases if it's a convolution layer\n",
    "                    if layer.type == LayerType.CONVOLUTION:\n",
    "                        # define shape for this layer's weights\n",
    "                        shape = [layer.ksize, layer.ksize, self.layers[i-1].depth, layer.depth]\n",
    "                    \n",
    "                        # initialize weights and biases\n",
    "                        self.weights[i] = tf.Variable(tf.truncated_normal(shape, stddev=0.1), name = 'W' + str(i))\n",
    "                        self.biases[i] = tf.Variable(tf.zeros((layer.depth)), name = 'b' + str(i))\n",
    "                    \n",
    "                    # only define depth fort his layer if it's a pooling layer\n",
    "                    if layer.type == LayerType.POOLING:\n",
    "                        layer.depth = self.layers[i-1].depth\n",
    "                        \n",
    "            # Training computation.\n",
    "            self.logits = self.__forward_prop(self.tf_train_X)\n",
    "            self.loss = (tf.reduce_mean(tf.nn.softmax_cross_entropy_with_logits(logits=self.logits, labels=self.tf_train_Y)) \n",
    "                        + (reg_lambda / (2 * m)) * tf.add_n([tf.nn.l2_loss(w) for w in self.weights[1:] if w is not None]))\n",
    "            \n",
    "            # Optimizer.\n",
    "            if learn_decay_rate > 0 and learn_decay_steps > 0:\n",
    "                global_step = tf.Variable(0, name = 'global_step', trainable = False)\n",
    "                self.learn_rate_decayed = tf.train.exponential_decay(self.learning_rate, global_step, learn_decay_steps, learn_decay_rate)\n",
    "                self.optimizer = tf.train.AdamOptimizer(learning_rate = self.learn_rate_decayed).minimize(self.loss, global_step = global_step)\n",
    "            else:            \n",
    "                self.optimizer = tf.train.AdamOptimizer(learning_rate = self.learning_rate).minimize(self.loss)\n",
    "            \n",
    "            # Predictor.\n",
    "            self.predictor = tf.nn.softmax(self.logits)\n",
    "            self.valid_predictor = tf.nn.softmax(self.__forward_prop(self.tf_valid_X, is_train = False))\n",
    "            \n",
    "            # Saver.\n",
    "            self.saver = tf.train.Saver()\n",
    "    \n",
    "    def __forward_prop(self, X, is_train = True):\n",
    "        with self.graph.as_default():\n",
    "            Z = [None] * len(self.layers)\n",
    "            A = [None] * len(self.layers)\n",
    "            A[0] = X\n",
    "\n",
    "            for i in range(1, len(self.layers)):\n",
    "                layer = self.layers[i]\n",
    "                \n",
    "                if layer.type == LayerType.FULLY_CONNECTED or layer.type == LayerType.OUTPUT:\n",
    "                    # check shape, if shape is 4-D that means previous layer was convolutional layer and needs reshape\n",
    "                    shape = A[i-1].get_shape().as_list()\n",
    "                    if len(shape) == 2:\n",
    "                        Z[i] = tf.matmul(A[i-1], self.weights[i]) + self.biases[i]\n",
    "                    elif len(shape) == 4:\n",
    "                        reshape = tf.reshape(A[i-1], [tf.shape(A[i-1])[0], shape[1] * shape[2] * shape[3]])\n",
    "                        Z[i] = tf.matmul(reshape, self.weights[i]) + self.biases[i]\n",
    "                    else:\n",
    "                        raise ValueError('''In forward propagation, incorrect shape activation found for layer %d\n",
    "                                            when trying to calculate activation for layer %d''' % (i-1, i))\n",
    "                \n",
    "                if layer.type == LayerType.CONVOLUTION:\n",
    "                    # previous layer's shape must be 4-D in order to perform convolution\n",
    "                    assert len(A[i-1].get_shape().as_list()) == 4\n",
    "                    \n",
    "                    Z[i] = tf.nn.conv2d(A[i-1], self.weights[i], [1, layer.stride, layer.stride, 1], \n",
    "                                        padding=layer.padding) + self.biases[i]\n",
    "                \n",
    "                if layer.type == LayerType.POOLING:\n",
    "                    # previous layer's shape must be 4-D in order to perform pooling\n",
    "                    assert len(A[i-1].get_shape().as_list()) == 4\n",
    "                    \n",
    "                    A[i] = Z[i] = tf.nn.max_pool(A[i-1], [1, layer.ksize, layer.ksize, 1], \n",
    "                                                [1, layer.stride, layer.stride, 1], padding = layer.padding)\n",
    "                \n",
    "                if layer.type is not LayerType.OUTPUT and layer.type is not LayerType.POOLING:\n",
    "                    if is_train and self.dropout_rate > 0:\n",
    "                        A[i] = tf.nn.dropout(tf.nn.relu(Z[i]), 1 - self.dropout_rate)\n",
    "                    else:\n",
    "                        A[i] = tf.nn.relu(Z[i])\n",
    "            \n",
    "            return Z[-1]\n",
    "    \n",
    "    def predict_probs(self, X):\n",
    "        with tf.Session(graph=self.graph) as session:\n",
    "            saver = tf.train.Saver()\n",
    "            saver.restore(session, self.savefile)\n",
    "            p = tf.nn.softmax(self.__forward_prop(tf.constant(X, dtype=tf.float32), is_train = False)).eval()\n",
    "            return p\n",
    "    \n",
    "    def predict(self, X):\n",
    "        return np.argmax(self.predict_probs(X), 1)\n",
    "    \n",
    "    def score(self, X, Y):\n",
    "        predictions = self.predict(X)\n",
    "        return (100.0 * np.sum(predictions == np.argmax(Y, 1)) / predictions.shape[0])\n",
    "    \n",
    "    def train(self, train_X, train_Y, valid_X = None, valid_Y = None, warm_start = False):\n",
    "        m = train_X.shape[0]\n",
    "        \n",
    "        with tf.Session(graph=self.graph) as session:\n",
    "            if not warm_start:\n",
    "                tf.global_variables_initializer().run()\n",
    "                print(\"Initialized!\")\n",
    "            else:\n",
    "                saver = tf.train.Saver()\n",
    "                saver.restore(session, self.savefile)\n",
    "                print(\"Restored previous weights from savefile for further training\")\n",
    "\n",
    "            step = 0\n",
    "\n",
    "            num_batches = int(math.floor(m / self.batch_size))\n",
    "            if m % self.batch_size != 0:\n",
    "                num_batches += 1\n",
    "\n",
    "            for epoch in range(self.epochs):\n",
    "                indices = np.arange(m); np.random.shuffle(indices)\n",
    "                for i in range(num_batches):\n",
    "                    step += 1\n",
    "\n",
    "                    if i == num_batches - 1:\n",
    "                        batch_X = train_X[indices[self.batch_size * i:m]]\n",
    "                        batch_Y = train_Y[indices[self.batch_size * i:m]]\n",
    "                    else:\n",
    "                        batch_X = train_X[indices[self.batch_size * i:self.batch_size * (i + 1)]]\n",
    "                        batch_Y = train_Y[indices[self.batch_size * i:self.batch_size * (i + 1)]]\n",
    "                    \n",
    "                    _, l, predictions= session.run([self.optimizer, self.loss, self.predictor], \n",
    "                                                    feed_dict={self.tf_train_X: batch_X, self.tf_train_Y: batch_Y})                    \n",
    "                    \n",
    "                    if (step % self.print_loss_interval == 0):\n",
    "                        print(\"Minibatch loss at step %d: %f\" % (step, l))\n",
    "                        print(\"Minibatch accuracy: %.1f%%\" % \n",
    "                              (100.0 * np.sum(np.argmax(predictions, 1) == np.argmax(batch_Y, 1)) / predictions.shape[0]))\n",
    "                        \n",
    "                        if valid_X is not None and valid_Y is not None:\n",
    "                            valid_predictions = session.run(self.valid_predictor, feed_dict={self.tf_valid_X: valid_X})\n",
    "                            print(\"Validation accuracy: %.1f%%\" %\n",
    "                                  (100.0 * np.sum(np.argmax(valid_predictions, 1) == np.argmax(valid_Y, 1)) / valid_Y.shape[0]))\n",
    "                        \n",
    "                        # Save weights for this step\n",
    "                        self.saver.save(session, self.savefile)\n",
    "                    \n",
    "                    # Print new learning rate\n",
    "                    if self.learn_decay_rate > 0 and self.learn_decay_steps > 0 and step % self.learn_decay_steps == 0:\n",
    "                        print(\"New learning rate:\", self.learn_rate_decayed.eval())\n",
    "                    \n",
    "                    if self.max_iter and step >= self.max_iter:\n",
    "                        # Save weights and biases early because there was a hard cap on iterations\n",
    "                        self.saver.save(session, self.savefile)\n",
    "                        return\n",
    "\n",
    "            # Save weights and biases\n",
    "            self.saver.save(session, self.savefile)"
   ]
  },
  {
   "cell_type": "code",
   "execution_count": 90,
   "metadata": {},
   "outputs": [
    {
     "name": "stdout",
     "output_type": "stream",
     "text": [
      "***********************************************\n",
      "INFO:tensorflow:Restoring parameters from ./models/notebook4/convnet.model\n",
      "Validation accuracy: 88.3%\n",
      "INFO:tensorflow:Restoring parameters from ./models/notebook4/convnet.model\n",
      "Test accuracy: 94.4%\n",
      "***********************************************\n"
     ]
    }
   ],
   "source": [
    "layers = [\n",
    "    InputLayer(data_shape = [28, 28, 1], n_height = 28, n_width = 28, depth = 1),\n",
    "    ConvolutionLayer(ksize = 5, stride = 2, depth = 16, padding = 'SAME'),\n",
    "    ConvolutionLayer(ksize = 5, stride = 2, depth = 16, padding = 'SAME'),\n",
    "    FullyConnectedLayer(n_height = 64),\n",
    "    OutputLayer(n_height = 10)\n",
    "]\n",
    "\n",
    "convnet = Classifier(layers = layers, reg_lambda = 0, batch_size = 16, learning_rate = 0.001,\n",
    "                     print_loss_interval = 500, epochs = 1, name = \"convnet\")\n",
    "# convnet.train(train_dataset, train_labels, valid_dataset, valid_labels)\n",
    "print(\"***********************************************\")\n",
    "print(\"Validation accuracy: %.1f%%\" % convnet.score(valid_dataset, valid_labels))\n",
    "print(\"Test accuracy: %.1f%%\" % convnet.score(test_dataset, test_labels))\n",
    "print(\"***********************************************\")"
   ]
  },
  {
   "cell_type": "code",
   "execution_count": 91,
   "metadata": {
    "scrolled": true
   },
   "outputs": [
    {
     "name": "stdout",
     "output_type": "stream",
     "text": [
      "***********************************************\n",
      "INFO:tensorflow:Restoring parameters from ./models/notebook4/convnet2.model\n",
      "Validation accuracy: 88.6%\n",
      "INFO:tensorflow:Restoring parameters from ./models/notebook4/convnet2.model\n",
      "Test accuracy: 94.6%\n",
      "***********************************************\n"
     ]
    }
   ],
   "source": [
    "layers = [\n",
    "    InputLayer(data_shape = [28, 28, 1], n_height = 28, n_width = 28, depth = 1),\n",
    "    ConvolutionLayer(ksize = 5, stride = 1, depth = 16, padding = 'SAME'),\n",
    "    PoolingLayer(ksize = 2, stride = 2, padding = 'SAME'),\n",
    "    ConvolutionLayer(ksize = 5, stride = 1, depth = 16, padding = 'SAME'),\n",
    "    PoolingLayer(ksize = 2, stride = 2, padding = 'SAME'),\n",
    "    FullyConnectedLayer(n_height = 64),\n",
    "    OutputLayer(n_height = 10)\n",
    "]\n",
    "\n",
    "convnet2 = Classifier(layers = layers, reg_lambda = 0, batch_size = 16, learning_rate = 0.001,\n",
    "                     print_loss_interval = 500, epochs = 1, name = \"convnet2\")\n",
    "#convnet2.train(train_dataset, train_labels, valid_dataset, valid_labels)\n",
    "print(\"***********************************************\")\n",
    "print(\"Validation accuracy: %.1f%%\" % convnet2.score(valid_dataset, valid_labels))\n",
    "print(\"Test accuracy: %.1f%%\" % convnet2.score(test_dataset, test_labels))\n",
    "print(\"***********************************************\")"
   ]
  },
  {
   "cell_type": "markdown",
   "metadata": {
    "colab_type": "text",
    "id": "klf21gpbAgb-"
   },
   "source": [
    "---\n",
    "Problem 2\n",
    "---------\n",
    "\n",
    "Try to get the best performance you can using a convolutional net. Look for example at the classic [LeNet5](http://yann.lecun.com/exdb/lenet/) architecture, adding Dropout, and/or adding learning rate decay.\n",
    "\n",
    "---"
   ]
  },
  {
   "cell_type": "code",
   "execution_count": null,
   "metadata": {},
   "outputs": [
    {
     "name": "stdout",
     "output_type": "stream",
     "text": [
      "Initialized!\n"
     ]
    }
   ],
   "source": [
    "layers = [\n",
    "    InputLayer(data_shape = [28, 28, 1], n_height = 28, n_width = 28, depth = 1),\n",
    "    ConvolutionLayer(ksize = 5, stride = 1, depth = 16, padding = 'SAME'),\n",
    "    PoolingLayer(ksize = 2, stride = 2, padding = 'SAME'),\n",
    "    ConvolutionLayer(ksize = 5, stride = 1, depth = 16, padding = 'SAME'),\n",
    "    PoolingLayer(ksize = 2, stride = 2, padding = 'SAME'),\n",
    "    FullyConnectedLayer(n_height = 64),\n",
    "    OutputLayer(n_height = 10)\n",
    "]\n",
    "\n",
    "convnet3 = Classifier(layers = layers, reg_lambda = 0.5, batch_size = 16, learning_rate = 0.001,\n",
    "                      learn_decay_rate = 0.85, learn_decay_steps = 5000,\n",
    "                      print_loss_interval = 500, epochs = 3, name = \"convnet3\")\n",
    "convnet3.train(train_dataset, train_labels, valid_dataset, valid_labels, warm_start = False)\n",
    "print(\"***********************************************\")\n",
    "print(\"Validation accuracy: %.1f%%\" % convnet3.score(valid_dataset, valid_labels))\n",
    "print(\"Test accuracy: %.1f%%\" % convnet3.score(test_dataset, test_labels))\n",
    "print(\"***********************************************\")"
   ]
  },
  {
   "cell_type": "code",
   "execution_count": null,
   "metadata": {},
   "outputs": [],
   "source": []
  }
 ],
 "metadata": {
  "colab": {
   "default_view": {},
   "name": "4_convolutions.ipynb",
   "provenance": [],
   "version": "0.3.2",
   "views": {}
  },
  "kernelspec": {
   "display_name": "Python 3",
   "language": "python",
   "name": "python3"
  },
  "language_info": {
   "codemirror_mode": {
    "name": "ipython",
    "version": 3
   },
   "file_extension": ".py",
   "mimetype": "text/x-python",
   "name": "python",
   "nbconvert_exporter": "python",
   "pygments_lexer": "ipython3",
   "version": "3.6.2"
  }
 },
 "nbformat": 4,
 "nbformat_minor": 1
}
