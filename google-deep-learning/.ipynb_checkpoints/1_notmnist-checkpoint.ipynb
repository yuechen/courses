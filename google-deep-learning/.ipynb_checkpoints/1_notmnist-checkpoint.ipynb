{
 "cells": [
  {
   "cell_type": "markdown",
   "metadata": {
    "colab_type": "text",
    "deletable": true,
    "editable": true,
    "id": "5hIbr52I7Z7U"
   },
   "source": [
    "Deep Learning\n",
    "=============\n",
    "\n",
    "Assignment 1\n",
    "------------\n",
    "\n",
    "The objective of this assignment is to learn about simple data curation practices, and familiarize you with some of the data we'll be reusing later.\n",
    "\n",
    "This notebook uses the [notMNIST](http://yaroslavvb.blogspot.com/2011/09/notmnist-dataset.html) dataset to be used with python experiments. This dataset is designed to look like the classic [MNIST](http://yann.lecun.com/exdb/mnist/) dataset, while looking a little more like real data: it's a harder task, and the data is a lot less 'clean' than MNIST."
   ]
  },
  {
   "cell_type": "code",
   "execution_count": 1,
   "metadata": {
    "cellView": "both",
    "colab": {
     "autoexec": {
      "startup": false,
      "wait_interval": 0
     }
    },
    "colab_type": "code",
    "collapsed": true,
    "deletable": true,
    "editable": true,
    "id": "apJbCsBHl-2A"
   },
   "outputs": [],
   "source": [
    "# These are all the modules we'll be using later. Make sure you can import them\n",
    "# before proceeding further.\n",
    "from __future__ import print_function\n",
    "import matplotlib.pyplot as plt\n",
    "import numpy as np\n",
    "import os\n",
    "import sys\n",
    "import tarfile\n",
    "from IPython.display import display, Image\n",
    "from scipy import ndimage\n",
    "from sklearn.linear_model import LogisticRegression\n",
    "from six.moves.urllib.request import urlretrieve\n",
    "from six.moves import cPickle as pickle\n",
    "\n",
    "# Config the matplotlib backend as plotting inline in IPython\n",
    "%matplotlib inline\n",
    "\n",
    "# Change me to store data elsewhere\n",
    "data_root = '.'\n",
    "\n",
    "alpha_map = ['A', 'B', 'C', 'D', 'E', 'F', 'G', 'H', 'I', 'J']\n",
    "\n",
    "# Define function to plot dataset\n",
    "def plot_dataset(dataset, labels, name = \"\"):\n",
    "    fig = plt.figure(figsize=(20, 6))\n",
    "    fig.suptitle(name, fontsize=12)\n",
    "    for i, j in enumerate(np.random.randint(0, dataset.shape[0], size=20)):\n",
    "        x = dataset[j]\n",
    "        y = labels[j]\n",
    "        subplot = plt.subplot(6,20,i + 1)\n",
    "        subplot.set_xticks(())\n",
    "        subplot.set_yticks(())\n",
    "        subplot.set_title(alpha_map[y])\n",
    "        subplot.imshow(x, cmap='gray')\n",
    "    plt.show()"
   ]
  },
  {
   "cell_type": "markdown",
   "metadata": {
    "colab_type": "text",
    "deletable": true,
    "editable": true,
    "id": "jNWGtZaXn-5j"
   },
   "source": [
    "First, we'll download the dataset to our local machine. The data consists of characters rendered in a variety of fonts on a 28x28 image. The labels are limited to 'A' through 'J' (10 classes). The training set has about 500k and the testset 19000 labelled examples. Given these sizes, it should be possible to train models quickly on any machine."
   ]
  },
  {
   "cell_type": "code",
   "execution_count": 3,
   "metadata": {
    "cellView": "both",
    "colab": {
     "autoexec": {
      "startup": false,
      "wait_interval": 0
     },
     "output_extras": [
      {
       "item_id": 1
      }
     ]
    },
    "colab_type": "code",
    "collapsed": false,
    "deletable": true,
    "editable": true,
    "executionInfo": {
     "elapsed": 186058,
     "status": "ok",
     "timestamp": 1444485672507,
     "user": {
      "color": "#1FA15D",
      "displayName": "Vincent Vanhoucke",
      "isAnonymous": false,
      "isMe": true,
      "permissionId": "05076109866853157986",
      "photoUrl": "//lh6.googleusercontent.com/-cCJa7dTDcgQ/AAAAAAAAAAI/AAAAAAAACgw/r2EZ_8oYer4/s50-c-k-no/photo.jpg",
      "sessionId": "2a0a5e044bb03b66",
      "userId": "102167687554210253930"
     },
     "user_tz": 420
    },
    "id": "EYRJ4ICW6-da",
    "outputId": "0d0f85df-155f-4a89-8e7e-ee32df36ec8d"
   },
   "outputs": [
    {
     "name": "stdout",
     "output_type": "stream",
     "text": [
      "Found and verified ./notMNIST_large.tar.gz\n",
      "Found and verified ./notMNIST_small.tar.gz\n"
     ]
    }
   ],
   "source": [
    "url = 'http://commondatastorage.googleapis.com/books1000/'\n",
    "last_percent_reported = None\n",
    "\n",
    "def download_progress_hook(count, blockSize, totalSize):\n",
    "  \"\"\"A hook to report the progress of a download. This is mostly intended for users with\n",
    "  slow internet connections. Reports every 5% change in download progress.\n",
    "  \"\"\"\n",
    "  global last_percent_reported\n",
    "  percent = int(count * blockSize * 100 / totalSize)\n",
    "\n",
    "  if last_percent_reported != percent:\n",
    "    if percent % 5 == 0:\n",
    "      sys.stdout.write(\"%s%%\" % percent)\n",
    "      sys.stdout.flush()\n",
    "    else:\n",
    "      sys.stdout.write(\".\")\n",
    "      sys.stdout.flush()\n",
    "      \n",
    "    last_percent_reported = percent\n",
    "        \n",
    "def maybe_download(filename, expected_bytes, force=False):\n",
    "  \"\"\"Download a file if not present, and make sure it's the right size.\"\"\"\n",
    "  dest_filename = os.path.join(data_root, filename)\n",
    "  if force or not os.path.exists(dest_filename):\n",
    "    print('Attempting to download:', filename) \n",
    "    filename, _ = urlretrieve(url + filename, dest_filename, reporthook=download_progress_hook)\n",
    "    print('\\nDownload Complete!')\n",
    "  statinfo = os.stat(dest_filename)\n",
    "  if statinfo.st_size == expected_bytes:\n",
    "    print('Found and verified', dest_filename)\n",
    "  else:\n",
    "    raise Exception(\n",
    "      'Failed to verify ' + dest_filename + '. Can you get to it with a browser?')\n",
    "  return dest_filename\n",
    "\n",
    "train_filename = maybe_download('notMNIST_large.tar.gz', 247336696)\n",
    "test_filename = maybe_download('notMNIST_small.tar.gz', 8458043)"
   ]
  },
  {
   "cell_type": "markdown",
   "metadata": {
    "colab_type": "text",
    "deletable": true,
    "editable": true,
    "id": "cC3p0oEyF8QT"
   },
   "source": [
    "Extract the dataset from the compressed .tar.gz file.\n",
    "This should give you a set of directories, labelled A through J."
   ]
  },
  {
   "cell_type": "code",
   "execution_count": 4,
   "metadata": {
    "cellView": "both",
    "colab": {
     "autoexec": {
      "startup": false,
      "wait_interval": 0
     },
     "output_extras": [
      {
       "item_id": 1
      }
     ]
    },
    "colab_type": "code",
    "collapsed": false,
    "deletable": true,
    "editable": true,
    "executionInfo": {
     "elapsed": 186055,
     "status": "ok",
     "timestamp": 1444485672525,
     "user": {
      "color": "#1FA15D",
      "displayName": "Vincent Vanhoucke",
      "isAnonymous": false,
      "isMe": true,
      "permissionId": "05076109866853157986",
      "photoUrl": "//lh6.googleusercontent.com/-cCJa7dTDcgQ/AAAAAAAAAAI/AAAAAAAACgw/r2EZ_8oYer4/s50-c-k-no/photo.jpg",
      "sessionId": "2a0a5e044bb03b66",
      "userId": "102167687554210253930"
     },
     "user_tz": 420
    },
    "id": "H8CBE-WZ8nmj",
    "outputId": "ef6c790c-2513-4b09-962e-27c79390c762"
   },
   "outputs": [
    {
     "name": "stdout",
     "output_type": "stream",
     "text": [
      "./notMNIST_large already present - Skipping extraction of ./notMNIST_large.tar.gz.\n",
      "['./notMNIST_large/A', './notMNIST_large/B', './notMNIST_large/C', './notMNIST_large/D', './notMNIST_large/E', './notMNIST_large/F', './notMNIST_large/G', './notMNIST_large/H', './notMNIST_large/I', './notMNIST_large/J']\n",
      "./notMNIST_small already present - Skipping extraction of ./notMNIST_small.tar.gz.\n",
      "['./notMNIST_small/A', './notMNIST_small/B', './notMNIST_small/C', './notMNIST_small/D', './notMNIST_small/E', './notMNIST_small/F', './notMNIST_small/G', './notMNIST_small/H', './notMNIST_small/I', './notMNIST_small/J']\n"
     ]
    }
   ],
   "source": [
    "num_classes = 10\n",
    "np.random.seed(133)\n",
    "\n",
    "def maybe_extract(filename, force=False):\n",
    "  root = os.path.splitext(os.path.splitext(filename)[0])[0]  # remove .tar.gz\n",
    "  if os.path.isdir(root) and not force:\n",
    "    # You may override by setting force=True.\n",
    "    print('%s already present - Skipping extraction of %s.' % (root, filename))\n",
    "  else:\n",
    "    print('Extracting data for %s. This may take a while. Please wait.' % root)\n",
    "    tar = tarfile.open(filename)\n",
    "    sys.stdout.flush()\n",
    "    tar.extractall(data_root)\n",
    "    tar.close()\n",
    "  data_folders = [\n",
    "    os.path.join(root, d) for d in sorted(os.listdir(root))\n",
    "    if os.path.isdir(os.path.join(root, d))]\n",
    "  if len(data_folders) != num_classes:\n",
    "    raise Exception(\n",
    "      'Expected %d folders, one per class. Found %d instead.' % (\n",
    "        num_classes, len(data_folders)))\n",
    "  print(data_folders)\n",
    "  return data_folders\n",
    "  \n",
    "train_folders = maybe_extract(train_filename)\n",
    "test_folders = maybe_extract(test_filename)"
   ]
  },
  {
   "cell_type": "markdown",
   "metadata": {
    "colab_type": "text",
    "deletable": true,
    "editable": true,
    "id": "4riXK3IoHgx6"
   },
   "source": [
    "---\n",
    "Problem 1\n",
    "---------\n",
    "\n",
    "Let's take a peek at some of the data to make sure it looks sensible. Each exemplar should be an image of a character A through J rendered in a different font. Display a sample of the images that we just downloaded. Hint: you can use the package IPython.display.\n",
    "\n",
    "---"
   ]
  },
  {
   "cell_type": "code",
   "execution_count": 5,
   "metadata": {
    "collapsed": false
   },
   "outputs": [
    {
     "data": {
      "image/png": "[encoded data removed]",
      "text/plain": [
       "<matplotlib.figure.Figure at 0x7fae74289910>"
      ]
     },
     "metadata": {},
     "output_type": "display_data"
    },
    {
     "data": {
      "image/png": "[encoded data removed]",
      "text/plain": [
       "<matplotlib.figure.Figure at 0x7fae71d1c690>"
      ]
     },
     "metadata": {},
     "output_type": "display_data"
    }
   ],
   "source": [
    "from PIL import Image\n",
    "\n",
    "fig = plt.figure(figsize=(10, 3))\n",
    "fig.suptitle('Training Set', fontsize=12)\n",
    "for i in range(len(train_folders)):\n",
    "    train_folder = train_folders[i]\n",
    "    subplot = plt.subplot(3,10,i + 1)\n",
    "    subplot.set_xticks(())\n",
    "    subplot.set_yticks(())\n",
    "    img = Image.open(train_folder + '/' + os.listdir(train_folder)[0])\n",
    "    subplot.imshow(img, cmap='gray')\n",
    "\n",
    "fig = plt.figure(figsize=(10, 3))\n",
    "fig.suptitle('Testing Set', fontsize=12)\n",
    "for i in range(len(test_folders)):\n",
    "    test_folder = test_folders[i]\n",
    "    subplot = plt.subplot(3,10,i + 1)\n",
    "    subplot.set_xticks(())\n",
    "    subplot.set_yticks(())\n",
    "    img = Image.open(test_folder + '/' + os.listdir(test_folder)[0])\n",
    "    subplot.imshow(img, cmap='gray')\n",
    "plt.show()"
   ]
  },
  {
   "cell_type": "markdown",
   "metadata": {
    "colab_type": "text",
    "deletable": true,
    "editable": true,
    "id": "PBdkjESPK8tw"
   },
   "source": [
    "Now let's load the data in a more manageable format. Since, depending on your computer setup you might not be able to fit it all in memory, we'll load each class into a separate dataset, store them on disk and curate them independently. Later we'll merge them into a single dataset of manageable size.\n",
    "\n",
    "We'll convert the entire dataset into a 3D array (image index, x, y) of floating point values, normalized to have approximately zero mean and standard deviation ~0.5 to make training easier down the road. \n",
    "\n",
    "A few images might not be readable, we'll just skip them."
   ]
  },
  {
   "cell_type": "code",
   "execution_count": 6,
   "metadata": {
    "cellView": "both",
    "colab": {
     "autoexec": {
      "startup": false,
      "wait_interval": 0
     },
     "output_extras": [
      {
       "item_id": 30
      }
     ]
    },
    "colab_type": "code",
    "collapsed": false,
    "deletable": true,
    "editable": true,
    "executionInfo": {
     "elapsed": 399874,
     "status": "ok",
     "timestamp": 1444485886378,
     "user": {
      "color": "#1FA15D",
      "displayName": "Vincent Vanhoucke",
      "isAnonymous": false,
      "isMe": true,
      "permissionId": "05076109866853157986",
      "photoUrl": "//lh6.googleusercontent.com/-cCJa7dTDcgQ/AAAAAAAAAAI/AAAAAAAACgw/r2EZ_8oYer4/s50-c-k-no/photo.jpg",
      "sessionId": "2a0a5e044bb03b66",
      "userId": "102167687554210253930"
     },
     "user_tz": 420
    },
    "id": "h7q0XhG3MJdf",
    "outputId": "92c391bb-86ff-431d-9ada-315568a19e59"
   },
   "outputs": [
    {
     "name": "stdout",
     "output_type": "stream",
     "text": [
      "./notMNIST_large/A.pickle already present - Skipping pickling.\n",
      "./notMNIST_large/B.pickle already present - Skipping pickling.\n",
      "./notMNIST_large/C.pickle already present - Skipping pickling.\n",
      "./notMNIST_large/D.pickle already present - Skipping pickling.\n",
      "./notMNIST_large/E.pickle already present - Skipping pickling.\n",
      "./notMNIST_large/F.pickle already present - Skipping pickling.\n",
      "./notMNIST_large/G.pickle already present - Skipping pickling.\n",
      "./notMNIST_large/H.pickle already present - Skipping pickling.\n",
      "./notMNIST_large/I.pickle already present - Skipping pickling.\n",
      "./notMNIST_large/J.pickle already present - Skipping pickling.\n",
      "./notMNIST_small/A.pickle already present - Skipping pickling.\n",
      "./notMNIST_small/B.pickle already present - Skipping pickling.\n",
      "./notMNIST_small/C.pickle already present - Skipping pickling.\n",
      "./notMNIST_small/D.pickle already present - Skipping pickling.\n",
      "./notMNIST_small/E.pickle already present - Skipping pickling.\n",
      "./notMNIST_small/F.pickle already present - Skipping pickling.\n",
      "./notMNIST_small/G.pickle already present - Skipping pickling.\n",
      "./notMNIST_small/H.pickle already present - Skipping pickling.\n",
      "./notMNIST_small/I.pickle already present - Skipping pickling.\n",
      "./notMNIST_small/J.pickle already present - Skipping pickling.\n"
     ]
    }
   ],
   "source": [
    "image_size = 28  # Pixel width and height.\n",
    "pixel_depth = 255.0  # Number of levels per pixel.\n",
    "\n",
    "def load_letter(folder, min_num_images):\n",
    "  \"\"\"Load the data for a single letter label.\"\"\"\n",
    "  image_files = os.listdir(folder)\n",
    "  dataset = np.ndarray(shape=(len(image_files), image_size, image_size),\n",
    "                         dtype=np.float32)\n",
    "  print(folder)\n",
    "  num_images = 0\n",
    "  for image in image_files:\n",
    "    image_file = os.path.join(folder, image)\n",
    "    try:\n",
    "      image_data = (ndimage.imread(image_file).astype(float) - \n",
    "                    pixel_depth / 2) / pixel_depth\n",
    "      if image_data.shape != (image_size, image_size):\n",
    "        raise Exception('Unexpected image shape: %s' % str(image_data.shape))\n",
    "      dataset[num_images, :, :] = image_data\n",
    "      num_images = num_images + 1\n",
    "    except IOError as e:\n",
    "      print('Could not read:', image_file, ':', e, '- it\\'s ok, skipping.')\n",
    "    \n",
    "  dataset = dataset[0:num_images, :, :]\n",
    "  if num_images < min_num_images:\n",
    "    raise Exception('Many fewer images than expected: %d < %d' %\n",
    "                    (num_images, min_num_images))\n",
    "    \n",
    "  print('Full dataset tensor:', dataset.shape)\n",
    "  print('Mean:', np.mean(dataset))\n",
    "  print('Standard deviation:', np.std(dataset))\n",
    "  return dataset\n",
    "        \n",
    "def maybe_pickle(data_folders, min_num_images_per_class, force=False):\n",
    "  dataset_names = []\n",
    "  for folder in data_folders:\n",
    "    set_filename = folder + '.pickle'\n",
    "    dataset_names.append(set_filename)\n",
    "    if os.path.exists(set_filename) and not force:\n",
    "      # You may override by setting force=True.\n",
    "      print('%s already present - Skipping pickling.' % set_filename)\n",
    "    else:\n",
    "      print('Pickling %s.' % set_filename)\n",
    "      dataset = load_letter(folder, min_num_images_per_class)\n",
    "      try:\n",
    "        with open(set_filename, 'wb') as f:\n",
    "          pickle.dump(dataset, f, pickle.HIGHEST_PROTOCOL)\n",
    "      except Exception as e:\n",
    "        print('Unable to save data to', set_filename, ':', e)\n",
    "  \n",
    "  return dataset_names\n",
    "\n",
    "train_datasets = maybe_pickle(train_folders, 45000)\n",
    "test_datasets = maybe_pickle(test_folders, 1800)"
   ]
  },
  {
   "cell_type": "markdown",
   "metadata": {
    "colab_type": "text",
    "deletable": true,
    "editable": true,
    "id": "vUdbskYE2d87"
   },
   "source": [
    "---\n",
    "Problem 2\n",
    "---------\n",
    "\n",
    "Let's verify that the data still looks good. Displaying a sample of the labels and images from the ndarray. Hint: you can use matplotlib.pyplot.\n",
    "\n",
    "---"
   ]
  },
  {
   "cell_type": "code",
   "execution_count": 7,
   "metadata": {
    "collapsed": false
   },
   "outputs": [
    {
     "data": {
      "image/png": "[encoded data removed]",
      "text/plain": [
       "<matplotlib.figure.Figure at 0x7fae7185a710>"
      ]
     },
     "metadata": {},
     "output_type": "display_data"
    },
    {
     "data": {
      "image/png": "[encoded data removed]",
      "text/plain": [
       "<matplotlib.figure.Figure at 0x7fae71ab0590>"
      ]
     },
     "metadata": {},
     "output_type": "display_data"
    }
   ],
   "source": [
    "fig = plt.figure(figsize=(10, 3))\n",
    "fig.suptitle('Training Set', fontsize=12)\n",
    "for i in range(len(train_datasets)):\n",
    "    train_set = train_datasets[i]\n",
    "    with open(train_set, 'r') as f:\n",
    "        ts = pickle.loads(f.read())\n",
    "        subplot = plt.subplot(3,10,i + 1)\n",
    "        subplot.set_xticks(())\n",
    "        subplot.set_yticks(())\n",
    "        subplot.imshow(ts[0], cmap='gray')\n",
    "\n",
    "fig = plt.figure(figsize=(10, 3))\n",
    "fig.suptitle('Testing Set', fontsize=12)\n",
    "for i in range(len(test_datasets)):\n",
    "    test_set = test_datasets[i]\n",
    "    with open(test_set, 'r') as f:\n",
    "        ts = pickle.loads(f.read())\n",
    "        subplot = plt.subplot(3,10,i + 1)\n",
    "        subplot.set_xticks(())\n",
    "        subplot.set_yticks(())\n",
    "        subplot.imshow(ts[0], cmap='gray')\n",
    "plt.show()"
   ]
  },
  {
   "cell_type": "markdown",
   "metadata": {
    "colab_type": "text",
    "deletable": true,
    "editable": true,
    "id": "cYznx5jUwzoO"
   },
   "source": [
    "---\n",
    "Problem 3\n",
    "---------\n",
    "Another check: we expect the data to be balanced across classes. Verify that.\n",
    "\n",
    "---"
   ]
  },
  {
   "cell_type": "code",
   "execution_count": 9,
   "metadata": {
    "collapsed": false
   },
   "outputs": [
    {
     "name": "stdout",
     "output_type": "stream",
     "text": [
      "(52909, 28, 28)\n",
      "(52911, 28, 28)\n",
      "(52912, 28, 28)\n",
      "(52911, 28, 28)\n",
      "(52912, 28, 28)\n",
      "(52912, 28, 28)\n",
      "(52912, 28, 28)\n",
      "(52912, 28, 28)\n",
      "(52912, 28, 28)\n",
      "(52911, 28, 28)\n",
      "(1872, 28, 28)\n",
      "(1873, 28, 28)\n",
      "(1873, 28, 28)\n",
      "(1873, 28, 28)\n",
      "(1873, 28, 28)\n",
      "(1872, 28, 28)\n",
      "(1872, 28, 28)\n",
      "(1872, 28, 28)\n",
      "(1872, 28, 28)\n",
      "(1872, 28, 28)\n"
     ]
    }
   ],
   "source": [
    "for train_set in train_datasets:\n",
    "    with open(train_set, 'r') as f:\n",
    "        ts = pickle.loads(f.read())\n",
    "        print(ts.shape)\n",
    "\n",
    "for test_set in test_datasets:\n",
    "    with open(test_set, 'r') as f:\n",
    "        ts = pickle.loads(f.read())\n",
    "        print(ts.shape)"
   ]
  },
  {
   "cell_type": "markdown",
   "metadata": {
    "colab_type": "text",
    "deletable": true,
    "editable": true,
    "id": "LA7M7K22ynCt"
   },
   "source": [
    "Merge and prune the training data as needed. Depending on your computer setup, you might not be able to fit it all in memory, and you can tune `train_size` as needed. The labels will be stored into a separate array of integers 0 through 9.\n",
    "\n",
    "Also create a validation dataset for hyperparameter tuning."
   ]
  },
  {
   "cell_type": "code",
   "execution_count": 10,
   "metadata": {
    "cellView": "both",
    "colab": {
     "autoexec": {
      "startup": false,
      "wait_interval": 0
     },
     "output_extras": [
      {
       "item_id": 1
      }
     ]
    },
    "colab_type": "code",
    "collapsed": false,
    "deletable": true,
    "editable": true,
    "executionInfo": {
     "elapsed": 411281,
     "status": "ok",
     "timestamp": 1444485897869,
     "user": {
      "color": "#1FA15D",
      "displayName": "Vincent Vanhoucke",
      "isAnonymous": false,
      "isMe": true,
      "permissionId": "05076109866853157986",
      "photoUrl": "//lh6.googleusercontent.com/-cCJa7dTDcgQ/AAAAAAAAAAI/AAAAAAAACgw/r2EZ_8oYer4/s50-c-k-no/photo.jpg",
      "sessionId": "2a0a5e044bb03b66",
      "userId": "102167687554210253930"
     },
     "user_tz": 420
    },
    "id": "s3mWgZLpyuzq",
    "outputId": "8af66da6-902d-4719-bedc-7c9fb7ae7948"
   },
   "outputs": [
    {
     "name": "stdout",
     "output_type": "stream",
     "text": [
      "Training: (200000, 28, 28) (200000,)\n",
      "Validation: (10000, 28, 28) (10000,)\n",
      "Testing: (10000, 28, 28) (10000,)\n"
     ]
    }
   ],
   "source": [
    "def make_arrays(nb_rows, img_size):\n",
    "  if nb_rows:\n",
    "    dataset = np.ndarray((nb_rows, img_size, img_size), dtype=np.float32)\n",
    "    labels = np.ndarray(nb_rows, dtype=np.int32)\n",
    "  else:\n",
    "    dataset, labels = None, None\n",
    "  return dataset, labels\n",
    "\n",
    "def merge_datasets(pickle_files, train_size, valid_size=0):\n",
    "  num_classes = len(pickle_files)\n",
    "  valid_dataset, valid_labels = make_arrays(valid_size, image_size)\n",
    "  train_dataset, train_labels = make_arrays(train_size, image_size)\n",
    "  vsize_per_class = valid_size // num_classes\n",
    "  tsize_per_class = train_size // num_classes\n",
    "    \n",
    "  start_v, start_t = 0, 0\n",
    "  end_v, end_t = vsize_per_class, tsize_per_class\n",
    "  end_l = vsize_per_class+tsize_per_class\n",
    "  for label, pickle_file in enumerate(pickle_files):       \n",
    "    try:\n",
    "      with open(pickle_file, 'rb') as f:\n",
    "        letter_set = pickle.load(f)\n",
    "        # let's shuffle the letters to have random validation and training set\n",
    "        np.random.shuffle(letter_set)\n",
    "        if valid_dataset is not None:\n",
    "          valid_letter = letter_set[:vsize_per_class, :, :]\n",
    "          valid_dataset[start_v:end_v, :, :] = valid_letter\n",
    "          valid_labels[start_v:end_v] = label\n",
    "          start_v += vsize_per_class\n",
    "          end_v += vsize_per_class\n",
    "                    \n",
    "        train_letter = letter_set[vsize_per_class:end_l, :, :]\n",
    "        train_dataset[start_t:end_t, :, :] = train_letter\n",
    "        train_labels[start_t:end_t] = label\n",
    "        start_t += tsize_per_class\n",
    "        end_t += tsize_per_class\n",
    "    except Exception as e:\n",
    "      print('Unable to process data from', pickle_file, ':', e)\n",
    "      raise\n",
    "    \n",
    "  return valid_dataset, valid_labels, train_dataset, train_labels\n",
    "\n",
    "train_size = 200000\n",
    "valid_size = 10000\n",
    "test_size = 10000\n",
    "\n",
    "valid_dataset, valid_labels, train_dataset, train_labels = merge_datasets(\n",
    "  train_datasets, train_size, valid_size)\n",
    "_, _, test_dataset, test_labels = merge_datasets(test_datasets, test_size)\n",
    "\n",
    "print('Training:', train_dataset.shape, train_labels.shape)\n",
    "print('Validation:', valid_dataset.shape, valid_labels.shape)\n",
    "print('Testing:', test_dataset.shape, test_labels.shape)"
   ]
  },
  {
   "cell_type": "markdown",
   "metadata": {
    "colab_type": "text",
    "deletable": true,
    "editable": true,
    "id": "GPTCnjIcyuKN"
   },
   "source": [
    "Next, we'll randomize the data. It's important to have the labels well shuffled for the training and test distributions to match."
   ]
  },
  {
   "cell_type": "code",
   "execution_count": 11,
   "metadata": {
    "cellView": "both",
    "colab": {
     "autoexec": {
      "startup": false,
      "wait_interval": 0
     }
    },
    "colab_type": "code",
    "collapsed": true,
    "deletable": true,
    "editable": true,
    "id": "6WZ2l2tN2zOL"
   },
   "outputs": [],
   "source": [
    "def randomize(dataset, labels):\n",
    "  permutation = np.random.permutation(labels.shape[0])\n",
    "  shuffled_dataset = dataset[permutation,:,:]\n",
    "  shuffled_labels = labels[permutation]\n",
    "  return shuffled_dataset, shuffled_labels\n",
    "train_dataset, train_labels = randomize(train_dataset, train_labels)\n",
    "test_dataset, test_labels = randomize(test_dataset, test_labels)\n",
    "valid_dataset, valid_labels = randomize(valid_dataset, valid_labels)"
   ]
  },
  {
   "cell_type": "markdown",
   "metadata": {
    "colab_type": "text",
    "deletable": true,
    "editable": true,
    "id": "puDUTe6t6USl"
   },
   "source": [
    "---\n",
    "Problem 4\n",
    "---------\n",
    "Convince yourself that the data is still good after shuffling!\n",
    "\n",
    "---"
   ]
  },
  {
   "cell_type": "code",
   "execution_count": 49,
   "metadata": {
    "collapsed": false,
    "scrolled": true
   },
   "outputs": [
    {
     "data": {
      "image/png": "[encoded data removed]",
      "text/plain": [
       "<matplotlib.figure.Figure at 0x7fae70177bd0>"
      ]
     },
     "metadata": {},
     "output_type": "display_data"
    },
    {
     "data": {
      "image/png": "[encoded data removed]",
      "text/plain": [
       "<matplotlib.figure.Figure at 0x7fae70177ad0>"
      ]
     },
     "metadata": {},
     "output_type": "display_data"
    }
   ],
   "source": [
    "plot_dataset(train_dataset, train_labels, \"Train dataset\")\n",
    "plot_dataset(test_dataset, test_labels, \"Test dataset\")"
   ]
  },
  {
   "cell_type": "markdown",
   "metadata": {
    "colab_type": "text",
    "deletable": true,
    "editable": true,
    "id": "tIQJaJuwg5Hw"
   },
   "source": [
    "Finally, let's save the data for later reuse:"
   ]
  },
  {
   "cell_type": "code",
   "execution_count": 30,
   "metadata": {
    "cellView": "both",
    "colab": {
     "autoexec": {
      "startup": false,
      "wait_interval": 0
     }
    },
    "colab_type": "code",
    "collapsed": true,
    "deletable": true,
    "editable": true,
    "id": "QiR_rETzem6C"
   },
   "outputs": [],
   "source": [
    "pickle_file = os.path.join(data_root, 'notMNIST.pickle')\n",
    "\n",
    "try:\n",
    "  f = open(pickle_file, 'wb')\n",
    "  save = {\n",
    "    'train_dataset': train_dataset,\n",
    "    'train_labels': train_labels,\n",
    "    'valid_dataset': valid_dataset,\n",
    "    'valid_labels': valid_labels,\n",
    "    'test_dataset': test_dataset,\n",
    "    'test_labels': test_labels,\n",
    "    }\n",
    "  pickle.dump(save, f, pickle.HIGHEST_PROTOCOL)\n",
    "  f.close()\n",
    "except Exception as e:\n",
    "  print('Unable to save data to', pickle_file, ':', e)\n",
    "  raise"
   ]
  },
  {
   "cell_type": "code",
   "execution_count": 32,
   "metadata": {
    "cellView": "both",
    "colab": {
     "autoexec": {
      "startup": false,
      "wait_interval": 0
     },
     "output_extras": [
      {
       "item_id": 1
      }
     ]
    },
    "colab_type": "code",
    "collapsed": false,
    "deletable": true,
    "editable": true,
    "executionInfo": {
     "elapsed": 413065,
     "status": "ok",
     "timestamp": 1444485899688,
     "user": {
      "color": "#1FA15D",
      "displayName": "Vincent Vanhoucke",
      "isAnonymous": false,
      "isMe": true,
      "permissionId": "05076109866853157986",
      "photoUrl": "//lh6.googleusercontent.com/-cCJa7dTDcgQ/AAAAAAAAAAI/AAAAAAAACgw/r2EZ_8oYer4/s50-c-k-no/photo.jpg",
      "sessionId": "2a0a5e044bb03b66",
      "userId": "102167687554210253930"
     },
     "user_tz": 420
    },
    "id": "hQbLjrW_iT39",
    "outputId": "b440efc6-5ee1-4cbc-d02d-93db44ebd956",
    "scrolled": true
   },
   "outputs": [
    {
     "name": "stdout",
     "output_type": "stream",
     "text": [
      "Compressed pickle size: 690800441\n"
     ]
    }
   ],
   "source": [
    "statinfo = os.stat(pickle_file)\n",
    "print('Compressed pickle size:', statinfo.st_size)"
   ]
  },
  {
   "cell_type": "markdown",
   "metadata": {
    "colab_type": "text",
    "deletable": true,
    "editable": true,
    "id": "gE_cRAQB33lk"
   },
   "source": [
    "---\n",
    "Problem 5\n",
    "---------\n",
    "\n",
    "By construction, this dataset might contain a lot of overlapping samples, including training data that's also contained in the validation and test set! Overlap between training and test can skew the results if you expect to use your model in an environment where there is never an overlap, but are actually ok if you expect to see training samples recur when you use it.\n",
    "Measure how much overlap there is between training, validation and test samples.\n",
    "\n",
    "Optional questions:\n",
    "- What about near duplicates between datasets? (images that are almost identical)\n",
    "- Create a sanitized validation and test set, and compare your accuracy on those in subsequent assignments.\n",
    "---"
   ]
  },
  {
   "cell_type": "code",
   "execution_count": 2,
   "metadata": {
    "collapsed": false
   },
   "outputs": [
    {
     "name": "stdout",
     "output_type": "stream",
     "text": [
      "Successfully loaded files.\n"
     ]
    }
   ],
   "source": [
    "# Load non-deduped datasets from files\n",
    "\n",
    "pickle_file = os.path.join(data_root, 'notMNIST.pickle')\n",
    "train_dataset = None\n",
    "train_labels = None\n",
    "valid_dataset = None\n",
    "valid_labels = None\n",
    "test_dataset = None\n",
    "test_labels = None\n",
    "with open(pickle_file, 'r') as f:\n",
    "    save = pickle.loads(f.read())\n",
    "    train_dataset = save['train_dataset']\n",
    "    train_labels = save['train_labels']\n",
    "    valid_dataset = save['valid_dataset']\n",
    "    valid_labels = save['valid_labels']\n",
    "    test_dataset = save['test_dataset']\n",
    "    test_labels = save['test_labels']\n",
    "\n",
    "# plot_dataset(train_dataset, train_labels, \"Train dataset\")\n",
    "# plot_dataset(valid_dataset, valid_labels, \"Validation dataset\")\n",
    "# plot_dataset(test_dataset, test_labels, \"Test dataset\")\n",
    "\n",
    "print(\"Successfully loaded files.\")"
   ]
  },
  {
   "cell_type": "code",
   "execution_count": 4,
   "metadata": {
    "collapsed": false
   },
   "outputs": [
    {
     "data": {
      "image/png": "[encoded data removed]",
      "text/plain": [
       "<matplotlib.figure.Figure at 0x7fec6c481bd0>"
      ]
     },
     "metadata": {},
     "output_type": "display_data"
    },
    {
     "data": {
      "image/png": "[encoded data removed]",
      "text/plain": [
       "<matplotlib.figure.Figure at 0x7fec6c481c50>"
      ]
     },
     "metadata": {},
     "output_type": "display_data"
    },
    {
     "data": {
      "image/png": "[encoded data removed]",
      "text/plain": [
       "<matplotlib.figure.Figure at 0x7fec6c48f250>"
      ]
     },
     "metadata": {},
     "output_type": "display_data"
    }
   ],
   "source": [
    "# Sanity check files by viewing them\n",
    "plot_dataset(train_dataset, train_labels, \"Train dataset\")\n",
    "plot_dataset(valid_dataset, valid_labels, \"Valid dataset\")\n",
    "plot_dataset(test_dataset, test_labels, \"Test dataset\")"
   ]
  },
  {
   "cell_type": "code",
   "execution_count": 7,
   "metadata": {
    "collapsed": false
   },
   "outputs": [],
   "source": [
    "# Define function for counting duplicates in train, valid, and test sets\n",
    "\n",
    "def cmpArr(a1, a2, debug = False):\n",
    "    if np.array_equal(a1, a2):\n",
    "        if debug:\n",
    "            plt.imshow(a1)\n",
    "            plt.show()\n",
    "            plt.imshow(a2)\n",
    "            plt.show()\n",
    "            print(\"-----------------------------\\n\")\n",
    "        return 0\n",
    "    \n",
    "    for i in range(a1.shape[0]):\n",
    "        for j in range(a1.shape[1]):\n",
    "            if a1[i][j] < a2[i][j]:\n",
    "                return -1\n",
    "            elif a1[i][j] > a2[i][j]:\n",
    "                return 1\n",
    "\n",
    "def find_dupes(train_dataset, valid_dataset, test_dataset, debug=False):\n",
    "    enumerated_train_dataset = []\n",
    "    enumerated_valid_dataset = []\n",
    "    enumerated_test_dataset = []\n",
    "    \n",
    "    for (i,x) in enumerate(train_dataset):\n",
    "        enumerated_train_dataset.append((i, x))\n",
    "    for (i,x) in enumerate(valid_dataset):\n",
    "        enumerated_valid_dataset.append((i, x))\n",
    "    for (i,x) in enumerate(test_dataset):\n",
    "        enumerated_test_dataset.append((i, x))\n",
    "    \n",
    "    def cmpArrSort(x1, x2):\n",
    "        return cmpArr(x1[1], x2[1])\n",
    "    \n",
    "    enumerated_sorted_train = sorted(enumerated_train_dataset, cmp = cmpArrSort)\n",
    "    enumerated_sorted_valid = sorted(enumerated_valid_dataset, cmp = cmpArrSort)\n",
    "    enumerated_sorted_test = sorted(enumerated_test_dataset, cmp = cmpArrSort)\n",
    "\n",
    "    overlap_train_valid = 0\n",
    "    overlap_train_test = 0\n",
    "    overlap_valid_test = 0\n",
    "\n",
    "    train_dataset_remove = set()\n",
    "    valid_dataset_remove = set()\n",
    "    test_dataset_remove = set()\n",
    "    \n",
    "    duplicate_pictures = []\n",
    "\n",
    "    i = 0\n",
    "    j = 0\n",
    "    while i < len(enumerated_sorted_train) and j < len(enumerated_sorted_valid):\n",
    "        compare = cmpArr(enumerated_sorted_train[i][1], enumerated_sorted_valid[j][1], debug=debug)\n",
    "        if compare == 0:\n",
    "            train_dataset_remove.add(enumerated_sorted_train[i][0])\n",
    "            valid_dataset_remove.add(enumerated_sorted_valid[j][0])\n",
    "            duplicate_pictures.append((enumerated_sorted_train[i][0], enumerated_sorted_valid[j][0], -1))\n",
    "            i += 1\n",
    "            j += 1\n",
    "            overlap_train_valid += 1\n",
    "            continue\n",
    "        elif compare == -1:\n",
    "            i += 1\n",
    "        elif compare == 1:\n",
    "            j += 1\n",
    "\n",
    "    i = 0\n",
    "    j = 0\n",
    "    while i < len(enumerated_sorted_train) and j < len(enumerated_sorted_test):\n",
    "        compare = cmpArr(enumerated_sorted_train[i][1], enumerated_sorted_test[j][1], debug=debug)\n",
    "        if compare == 0:\n",
    "            train_dataset_remove.add(enumerated_sorted_train[i][0])\n",
    "            test_dataset_remove.add(enumerated_sorted_test[j][0])\n",
    "            duplicate_pictures.append((enumerated_sorted_train[i][0], -1, enumerated_sorted_test[j][0]))\n",
    "            i += 1\n",
    "            j += 1\n",
    "            overlap_train_test += 1\n",
    "            train_dataset_remove.add(i)\n",
    "            continue\n",
    "        elif compare == -1:\n",
    "            i += 1\n",
    "        elif compare == 1:\n",
    "            j += 1\n",
    "\n",
    "    i = 0\n",
    "    j = 0\n",
    "    while i < len(enumerated_sorted_valid) and j < len(enumerated_sorted_test):\n",
    "        compare = cmpArr(enumerated_sorted_valid[i][1], enumerated_sorted_test[j][1], debug=debug)\n",
    "        if compare == 0:\n",
    "            valid_dataset_remove.add(enumerated_sorted_valid[i][0])\n",
    "            test_dataset_remove.add(enumerated_sorted_test[j][0])\n",
    "            duplicate_pictures.append((-1 ,enumerated_sorted_valid[i][0], enumerated_sorted_test[j][0]))\n",
    "            i += 1\n",
    "            j += 1\n",
    "            overlap_valid_test += 1\n",
    "            continue\n",
    "        elif compare == -1:\n",
    "            i += 1\n",
    "        elif compare == 1:\n",
    "            j += 1\n",
    "    \n",
    "    overlap = {'train_valid': overlap_train_valid, 'train_test': overlap_train_test, 'valid_test': overlap_valid_test}\n",
    "    remove_indices = {'train': train_dataset_remove, 'valid': valid_dataset_remove, 'test': test_dataset_remove}\n",
    "    return overlap, remove_indices, duplicate_pictures"
   ]
  },
  {
   "cell_type": "code",
   "execution_count": 4,
   "metadata": {
    "collapsed": false
   },
   "outputs": [
    {
     "name": "stdout",
     "output_type": "stream",
     "text": [
      "Overlap between train and valid datasets: 1067\n",
      "Overlap between train and test datasets: 1279\n",
      "Overlap between valid and test datasets: 170\n"
     ]
    }
   ],
   "source": [
    "overlap, remove_indices, duplicate_pictures = find_dupes(train_dataset, valid_dataset, test_dataset)\n",
    "print(\"Overlap between train and valid datasets: %d\" % overlap['train_valid'])\n",
    "print(\"Overlap between train and test datasets: %d\" % overlap['train_test'])\n",
    "print(\"Overlap between valid and test datasets: %d\" % overlap['valid_test'])"
   ]
  },
  {
   "cell_type": "code",
   "execution_count": 5,
   "metadata": {
    "collapsed": false,
    "scrolled": true
   },
   "outputs": [
    {
     "name": "stdout",
     "output_type": "stream",
     "text": [
      "Successfully created deduped sets\n"
     ]
    }
   ],
   "source": [
    "train_dataset_dedup = np.delete(train_dataset, list(remove_indices['train']), axis = 0)\n",
    "valid_dataset_dedup = np.delete(valid_dataset, list(remove_indices['valid']), axis = 0)\n",
    "test_dataset_dedup = np.delete(test_dataset, list(remove_indices['test']), axis = 0)\n",
    "train_labels_dedup = np.delete(train_labels, list(remove_indices['train']), axis = 0)\n",
    "valid_labels_dedup = np.delete(valid_labels, list(remove_indices['valid']), axis = 0)\n",
    "test_labels_dedup = np.delete(test_labels, list(remove_indices['test']), axis = 0)\n",
    "\n",
    "print(\"Successfully created deduped sets\")"
   ]
  },
  {
   "cell_type": "code",
   "execution_count": 6,
   "metadata": {
    "collapsed": false
   },
   "outputs": [
    {
     "name": "stdout",
     "output_type": "stream",
     "text": [
      "Saved deduped sets to  ./notMNIST_deduped.pickle .\n"
     ]
    }
   ],
   "source": [
    "# Save deduped train, valid, and test sets on a file\n",
    "pickle_file = os.path.join(data_root, 'notMNIST_deduped.pickle')\n",
    "\n",
    "try:\n",
    "  f = open(pickle_file, 'wb')\n",
    "  save = {\n",
    "    'train_dataset': train_dataset_dedup,\n",
    "    'train_labels': train_labels_dedup,\n",
    "    'valid_dataset': valid_dataset_dedup,\n",
    "    'valid_labels': valid_labels_dedup,\n",
    "    'test_dataset': test_dataset_dedup,\n",
    "    'test_labels': test_labels_dedup,\n",
    "    }\n",
    "  pickle.dump(save, f, pickle.HIGHEST_PROTOCOL)\n",
    "  f.close()\n",
    "except Exception as e:\n",
    "  print('Unable to save data to', pickle_file, ':', e)\n",
    "\n",
    "print(\"Saved deduped sets to \", pickle_file, '.')"
   ]
  },
  {
   "cell_type": "code",
   "execution_count": 58,
   "metadata": {
    "collapsed": false
   },
   "outputs": [
    {
     "name": "stdout",
     "output_type": "stream",
     "text": [
      "Successfully loaded files for deduped datasets.\n"
     ]
    }
   ],
   "source": [
    "# Load deduped datasets from files\n",
    "\n",
    "pickle_file = os.path.join(data_root, 'notMNIST_deduped.pickle')\n",
    "datasets_deduped = None\n",
    "with open(pickle_file, 'r') as f:\n",
    "    datasets_deduped = pickle.loads(f.read())\n",
    "\n",
    "print(\"Successfully loaded files for deduped datasets.\")"
   ]
  },
  {
   "cell_type": "code",
   "execution_count": 59,
   "metadata": {
    "collapsed": false
   },
   "outputs": [],
   "source": [
    "# load into proper variables\n",
    "train_dataset_dedup = datasets_deduped['train_dataset']\n",
    "train_labels_dedup = datasets_deduped['train_labels']\n",
    "valid_dataset_dedup = datasets_deduped['valid_dataset']\n",
    "valid_labels_dedup = datasets_deduped['valid_labels']\n",
    "test_dataset_dedup = datasets_deduped['test_dataset']\n",
    "test_labels_dedup = datasets_deduped['test_labels']\n",
    "\n",
    "# check for dupes (sanity check)\n",
    "# overlap, remove_indices, duplicate_pictures = find_dupes(train_dataset, valid_dataset, test_dataset)\n",
    "# print(\"Overlap between train and valid datasets: %d\" % overlap['train_valid'])\n",
    "# print(\"Overlap between train and test datasets: %d\" % overlap['train_test'])\n",
    "# print(\"Overlap between valid and test datasets: %d\" % overlap['valid_test'])"
   ]
  },
  {
   "cell_type": "code",
   "execution_count": 7,
   "metadata": {
    "collapsed": false,
    "scrolled": true
   },
   "outputs": [
    {
     "data": {
      "image/png": "[encoded data removed]",
      "text/plain": [
       "<matplotlib.figure.Figure at 0x7fec6c481610>"
      ]
     },
     "metadata": {},
     "output_type": "display_data"
    },
    {
     "data": {
      "image/png": "[encoded data removed]",
      "text/plain": [
       "<matplotlib.figure.Figure at 0x7fec6c481650>"
      ]
     },
     "metadata": {},
     "output_type": "display_data"
    },
    {
     "data": {
      "image/png": "[encoded data removed]",
      "text/plain": [
       "<matplotlib.figure.Figure at 0x7fec3c6c3990>"
      ]
     },
     "metadata": {},
     "output_type": "display_data"
    }
   ],
   "source": [
    "# Sanity check deduped files by viewing them\n",
    "plot_dataset(train_dataset_dedup, train_labels_dedup, \"Train dataset\")\n",
    "plot_dataset(valid_dataset_dedup, valid_labels_dedup, \"Valid dataset\")\n",
    "plot_dataset(test_dataset_dedup, test_labels_dedup, \"Test dataset\")"
   ]
  },
  {
   "cell_type": "code",
   "execution_count": 5,
   "metadata": {
    "collapsed": true
   },
   "outputs": [],
   "source": [
    "# double dedupe sets by removing same pictures from each set\n",
    "def find_dupe_within_set(dataset):\n",
    "    enumerated_dataset = []\n",
    "    \n",
    "    for (i,x) in enumerate(dataset):\n",
    "        enumerated_dataset.append((i,x))\n",
    "    \n",
    "    def cmpArrSort(x1, x2):\n",
    "        return cmpArr(x1[1], x2[1])\n",
    "    \n",
    "    enumerated_sorted = sorted(enumerated_dataset, cmp = cmpArrSort)\n",
    "    \n",
    "    dataset_remove = set()\n",
    "    overlap = 0\n",
    "    \n",
    "    last_unique = np.zeros(dataset[0].shape)\n",
    "    for (i,this_img) in enumerated_sorted:\n",
    "        if np.array_equal(last_unique, this_img):\n",
    "            dataset_remove.add(i)\n",
    "            overlap += 1\n",
    "        else:\n",
    "            last_unique = this_img\n",
    "    \n",
    "    return overlap, dataset_remove"
   ]
  },
  {
   "cell_type": "code",
   "execution_count": 8,
   "metadata": {
    "collapsed": false
   },
   "outputs": [
    {
     "name": "stdout",
     "output_type": "stream",
     "text": [
      "Duplicates within the training set: 11938\n",
      "Duplicates within the validation set: 28\n",
      "Duplicates within the testing set: 58\n"
     ]
    }
   ],
   "source": [
    "o_train, remove_train = find_dupe_within_set(train_dataset_dedup)\n",
    "o_valid, remove_valid = find_dupe_within_set(valid_dataset_dedup)\n",
    "o_test, remove_test = find_dupe_within_set(test_dataset_dedup)\n",
    "\n",
    "print(\"Duplicates within the training set:\", o_train)\n",
    "print(\"Duplicates within the validation set:\", o_valid)\n",
    "print(\"Duplicates within the testing set:\", o_test)"
   ]
  },
  {
   "cell_type": "code",
   "execution_count": 14,
   "metadata": {
    "collapsed": false
   },
   "outputs": [
    {
     "name": "stdout",
     "output_type": "stream",
     "text": [
      "Successfully created deduped sets\n"
     ]
    }
   ],
   "source": [
    "remove_train_list = list(remove_train)\n",
    "remove_valid_list = list(remove_valid)\n",
    "remove_test_list = list(remove_test)\n",
    "\n",
    "train_dataset_dedup2 = np.delete(train_dataset_dedup, remove_train_list, axis = 0)\n",
    "train_labels_dedup2 = np.delete(train_labels_dedup, remove_train_list, axis = 0)\n",
    "valid_dataset_dedup2 = np.delete(valid_dataset_dedup, remove_valid_list, axis = 0)\n",
    "valid_labels_dedup2 = np.delete(valid_labels_dedup, remove_valid_list, axis = 0)\n",
    "test_dataset_dedup2 = np.delete(test_dataset_dedup, remove_test_list, axis = 0)\n",
    "test_labels_dedup2 = np.delete(test_labels_dedup, remove_test_list, axis = 0)\n",
    "\n",
    "print(\"Successfully created deduped sets\")"
   ]
  },
  {
   "cell_type": "code",
   "execution_count": 15,
   "metadata": {
    "collapsed": false
   },
   "outputs": [
    {
     "name": "stdout",
     "output_type": "stream",
     "text": [
      "Training Set Size: (184584, 28, 28) (184584,)\n",
      "Validation Set Size: (8866, 28, 28) (8866,)\n",
      "Testing Set Size: (8624, 28, 28) (8624,)\n"
     ]
    }
   ],
   "source": [
    "print(\"Training Set Size:\", train_dataset_dedup2.shape, train_labels_dedup2.shape)\n",
    "print(\"Validation Set Size:\", valid_dataset_dedup2.shape, valid_labels_dedup2.shape)\n",
    "print(\"Testing Set Size:\", test_dataset_dedup2.shape, test_labels_dedup2.shape)"
   ]
  },
  {
   "cell_type": "code",
   "execution_count": 31,
   "metadata": {
    "collapsed": false
   },
   "outputs": [
    {
     "name": "stdout",
     "output_type": "stream",
     "text": [
      "Saved double-deduped sets to  ./notMNIST_deduped_double.pickle .\n"
     ]
    }
   ],
   "source": [
    "# Save double-deduped train, valid, and test sets on a file\n",
    "pickle_file = os.path.join(data_root, 'notMNIST_deduped_double.pickle')\n",
    "\n",
    "try:\n",
    "  f = open(pickle_file, 'wb')\n",
    "  save = {\n",
    "    'train_dataset': train_dataset_dedup2,\n",
    "    'train_labels': train_labels_dedup2,\n",
    "    'valid_dataset': valid_dataset_dedup2,\n",
    "    'valid_labels': valid_labels_dedup2,\n",
    "    'test_dataset': test_dataset_dedup2,\n",
    "    'test_labels': test_labels_dedup2,\n",
    "    }\n",
    "  pickle.dump(save, f, pickle.HIGHEST_PROTOCOL)\n",
    "  f.close()\n",
    "except Exception as e:\n",
    "  print('Unable to save data to', pickle_file, ':', e)\n",
    "\n",
    "print(\"Saved double-deduped sets to \", pickle_file, '.')"
   ]
  },
  {
   "cell_type": "code",
   "execution_count": 2,
   "metadata": {
    "collapsed": false
   },
   "outputs": [
    {
     "name": "stdout",
     "output_type": "stream",
     "text": [
      "Successfully loaded files for double deduped datasets.\n"
     ]
    }
   ],
   "source": [
    "# Load double-deduped datasets from files\n",
    "\n",
    "pickle_file = os.path.join(data_root, 'notMNIST_deduped_double.pickle')\n",
    "datasets_double_deduped = None\n",
    "with open(pickle_file, 'r') as f:\n",
    "    datasets_double_deduped = pickle.loads(f.read())\n",
    "\n",
    "print(\"Successfully loaded files for double deduped datasets.\")"
   ]
  },
  {
   "cell_type": "code",
   "execution_count": 3,
   "metadata": {
    "collapsed": false
   },
   "outputs": [],
   "source": [
    "# load into proper variables\n",
    "train_dataset_dedup2 = datasets_double_deduped['train_dataset']\n",
    "train_labels_dedup2 = datasets_double_deduped['train_labels']\n",
    "valid_dataset_dedup2 = datasets_double_deduped['valid_dataset']\n",
    "valid_labels_dedup2 = datasets_double_deduped['valid_labels']\n",
    "test_dataset_dedup2 = datasets_double_deduped['test_dataset']\n",
    "test_labels_dedup2 = datasets_double_deduped['test_labels']"
   ]
  },
  {
   "cell_type": "code",
   "execution_count": 10,
   "metadata": {
    "collapsed": false
   },
   "outputs": [
    {
     "data": {
      "image/png": "[encoded data removed]",
      "text/plain": [
       "<matplotlib.figure.Figure at 0x7fec3ce30410>"
      ]
     },
     "metadata": {},
     "output_type": "display_data"
    },
    {
     "data": {
      "image/png": "[encoded data removed]",
      "text/plain": [
       "<matplotlib.figure.Figure at 0x7fec3ce30490>"
      ]
     },
     "metadata": {},
     "output_type": "display_data"
    },
    {
     "data": {
      "image/png": "[encoded data removed]",
      "text/plain": [
       "<matplotlib.figure.Figure at 0x7fec3d36f1d0>"
      ]
     },
     "metadata": {},
     "output_type": "display_data"
    }
   ],
   "source": [
    "# Sanity check deduped files by viewing them\n",
    "plot_dataset(train_dataset_dedup2, train_labels_dedup2, \"Train dataset\")\n",
    "plot_dataset(valid_dataset_dedup2, valid_labels_dedup2, \"Valid dataset\")\n",
    "plot_dataset(test_dataset_dedup2, test_labels_dedup2, \"Test dataset\")"
   ]
  },
  {
   "cell_type": "markdown",
   "metadata": {
    "colab_type": "text",
    "deletable": true,
    "editable": true,
    "id": "L8oww1s4JMQx"
   },
   "source": [
    "---\n",
    "Problem 6\n",
    "---------\n",
    "\n",
    "Let's get an idea of what an off-the-shelf classifier can give you on this data. It's always good to check that there is something to learn, and that it's a problem that is not so trivial that a canned solution solves it.\n",
    "\n",
    "Train a simple model on this data using 50, 100, 1000 and 5000 training samples. Hint: you can use the LogisticRegression model from sklearn.linear_model.\n",
    "\n",
    "Optional question: train an off-the-shelf model on all the data!\n",
    "\n",
    "---"
   ]
  },
  {
   "cell_type": "code",
   "execution_count": 4,
   "metadata": {
    "collapsed": false
   },
   "outputs": [],
   "source": [
    "solver = LogisticRegression(solver='sag', multi_class='multinomial', max_iter = 1000)"
   ]
  },
  {
   "cell_type": "code",
   "execution_count": 5,
   "metadata": {
    "collapsed": true
   },
   "outputs": [],
   "source": [
    "def reshape_dataset(dataset):\n",
    "    return np.reshape(dataset, (dataset.shape[0], dataset.shape[1] * dataset.shape[2]))"
   ]
  },
  {
   "cell_type": "code",
   "execution_count": 6,
   "metadata": {
    "collapsed": false
   },
   "outputs": [
    {
     "ename": "NameError",
     "evalue": "name 'train_dataset' is not defined",
     "output_type": "error",
     "traceback": [
      "\u001b[0;31m---------------------------------------------------------------------------\u001b[0m",
      "\u001b[0;31mNameError\u001b[0m                                 Traceback (most recent call last)",
      "\u001b[0;32m<ipython-input-6-5db1ea690710>\u001b[0m in \u001b[0;36m<module>\u001b[0;34m()\u001b[0m\n\u001b[0;32m----> 1\u001b[0;31m \u001b[0mreshaped_train_dataset\u001b[0m \u001b[0;34m=\u001b[0m \u001b[0mreshape_dataset\u001b[0m\u001b[0;34m(\u001b[0m\u001b[0mtrain_dataset\u001b[0m\u001b[0;34m)\u001b[0m\u001b[0;34m\u001b[0m\u001b[0m\n\u001b[0m\u001b[1;32m      2\u001b[0m \u001b[0mreshaped_valid_dataset\u001b[0m \u001b[0;34m=\u001b[0m \u001b[0mreshape_dataset\u001b[0m\u001b[0;34m(\u001b[0m\u001b[0mvalid_dataset\u001b[0m\u001b[0;34m)\u001b[0m\u001b[0;34m\u001b[0m\u001b[0m\n\u001b[1;32m      3\u001b[0m \u001b[0mreshaped_test_dataset\u001b[0m \u001b[0;34m=\u001b[0m \u001b[0mreshape_dataset\u001b[0m\u001b[0;34m(\u001b[0m\u001b[0mtest_dataset\u001b[0m\u001b[0;34m)\u001b[0m\u001b[0;34m\u001b[0m\u001b[0m\n",
      "\u001b[0;31mNameError\u001b[0m: name 'train_dataset' is not defined"
     ]
    }
   ],
   "source": [
    "reshaped_train_dataset = reshape_dataset(train_dataset)\n",
    "reshaped_valid_dataset = reshape_dataset(valid_dataset)\n",
    "reshaped_test_dataset = reshape_dataset(test_dataset)"
   ]
  },
  {
   "cell_type": "code",
   "execution_count": 37,
   "metadata": {
    "collapsed": false
   },
   "outputs": [
    {
     "data": {
      "text/plain": [
       "LogisticRegression(C=1.0, class_weight=None, dual=False, fit_intercept=True,\n",
       "          intercept_scaling=1, max_iter=1000, multi_class='multinomial',\n",
       "          n_jobs=1, penalty='l2', random_state=None, solver='sag',\n",
       "          tol=0.0001, verbose=0, warm_start=False)"
      ]
     },
     "execution_count": 37,
     "metadata": {},
     "output_type": "execute_result"
    }
   ],
   "source": [
    "solver.fit(reshaped_train_dataset[:50], train_labels[:50])"
   ]
  },
  {
   "cell_type": "code",
   "execution_count": 26,
   "metadata": {
    "collapsed": true
   },
   "outputs": [],
   "source": [
    "def reshape_example(example):\n",
    "    return np.reshape(example, (1,example.shape[0]))"
   ]
  },
  {
   "cell_type": "code",
   "execution_count": 49,
   "metadata": {
    "collapsed": false
   },
   "outputs": [
    {
     "name": "stdout",
     "output_type": "stream",
     "text": [
      "Accuracy: 0.5932\n"
     ]
    }
   ],
   "source": [
    "valid_predict = solver.predict(reshaped_valid_dataset)\n",
    "print(\"Accuracy:\", np.sum(valid_predict == valid_labels) / float(len(valid_labels)))"
   ]
  },
  {
   "cell_type": "code",
   "execution_count": 50,
   "metadata": {
    "collapsed": false
   },
   "outputs": [
    {
     "data": {
      "text/plain": [
       "LogisticRegression(C=1.0, class_weight=None, dual=False, fit_intercept=True,\n",
       "          intercept_scaling=1, max_iter=1000, multi_class='multinomial',\n",
       "          n_jobs=1, penalty='l2', random_state=None, solver='sag',\n",
       "          tol=0.0001, verbose=0, warm_start=False)"
      ]
     },
     "execution_count": 50,
     "metadata": {},
     "output_type": "execute_result"
    }
   ],
   "source": [
    "solver.fit(reshaped_train_dataset[:100], train_labels[:100])"
   ]
  },
  {
   "cell_type": "code",
   "execution_count": 51,
   "metadata": {
    "collapsed": false
   },
   "outputs": [
    {
     "name": "stdout",
     "output_type": "stream",
     "text": [
      "Accuracy: 0.6645\n"
     ]
    }
   ],
   "source": [
    "valid_predict = solver.predict(reshaped_valid_dataset)\n",
    "print(\"Accuracy:\", np.sum(valid_predict == valid_labels) / float(len(valid_labels)))"
   ]
  },
  {
   "cell_type": "code",
   "execution_count": 53,
   "metadata": {
    "collapsed": false
   },
   "outputs": [
    {
     "data": {
      "text/plain": [
       "LogisticRegression(C=1.0, class_weight=None, dual=False, fit_intercept=True,\n",
       "          intercept_scaling=1, max_iter=1000, multi_class='multinomial',\n",
       "          n_jobs=1, penalty='l2', random_state=None, solver='sag',\n",
       "          tol=0.0001, verbose=0, warm_start=False)"
      ]
     },
     "execution_count": 53,
     "metadata": {},
     "output_type": "execute_result"
    }
   ],
   "source": [
    "solver.fit(reshaped_train_dataset[:1000], train_labels[:1000])"
   ]
  },
  {
   "cell_type": "code",
   "execution_count": 54,
   "metadata": {
    "collapsed": false
   },
   "outputs": [
    {
     "name": "stdout",
     "output_type": "stream",
     "text": [
      "Accuracy: 0.7608\n"
     ]
    }
   ],
   "source": [
    "valid_predict = solver.predict(reshaped_valid_dataset)\n",
    "print(\"Accuracy:\", np.sum(valid_predict == valid_labels) / float(len(valid_labels)))"
   ]
  },
  {
   "cell_type": "code",
   "execution_count": 55,
   "metadata": {
    "collapsed": false
   },
   "outputs": [
    {
     "data": {
      "text/plain": [
       "LogisticRegression(C=1.0, class_weight=None, dual=False, fit_intercept=True,\n",
       "          intercept_scaling=1, max_iter=1000, multi_class='multinomial',\n",
       "          n_jobs=1, penalty='l2', random_state=None, solver='sag',\n",
       "          tol=0.0001, verbose=0, warm_start=False)"
      ]
     },
     "execution_count": 55,
     "metadata": {},
     "output_type": "execute_result"
    }
   ],
   "source": [
    "solver.fit(reshaped_train_dataset[:5000], train_labels[:5000])"
   ]
  },
  {
   "cell_type": "code",
   "execution_count": 56,
   "metadata": {
    "collapsed": false,
    "scrolled": true
   },
   "outputs": [
    {
     "name": "stdout",
     "output_type": "stream",
     "text": [
      "Accuracy: 0.7703\n"
     ]
    }
   ],
   "source": [
    "valid_predict = solver.predict(reshaped_valid_dataset)\n",
    "print(\"Accuracy:\", np.sum(valid_predict == valid_labels) / float(len(valid_labels)))"
   ]
  },
  {
   "cell_type": "code",
   "execution_count": 60,
   "metadata": {
    "collapsed": true
   },
   "outputs": [],
   "source": [
    "reshaped_train_dataset_dedup = reshape_dataset(train_dataset_dedup)\n",
    "reshaped_valid_dataset_dedup = reshape_dataset(valid_dataset_dedup)\n",
    "reshaped_test_dataset_dedup = reshape_dataset(test_dataset_dedup)"
   ]
  },
  {
   "cell_type": "code",
   "execution_count": 61,
   "metadata": {
    "collapsed": false
   },
   "outputs": [
    {
     "data": {
      "text/plain": [
       "LogisticRegression(C=1.0, class_weight=None, dual=False, fit_intercept=True,\n",
       "          intercept_scaling=1, max_iter=1000, multi_class='multinomial',\n",
       "          n_jobs=1, penalty='l2', random_state=None, solver='sag',\n",
       "          tol=0.0001, verbose=0, warm_start=False)"
      ]
     },
     "execution_count": 61,
     "metadata": {},
     "output_type": "execute_result"
    }
   ],
   "source": [
    "solver.fit(reshaped_train_dataset_dedup[:1000], train_labels_dedup[:1000])"
   ]
  },
  {
   "cell_type": "code",
   "execution_count": 62,
   "metadata": {
    "collapsed": false
   },
   "outputs": [
    {
     "name": "stdout",
     "output_type": "stream",
     "text": [
      "Accuracy: 0.752529795368\n"
     ]
    }
   ],
   "source": [
    "valid_predict_dedup = solver.predict(reshaped_valid_dataset_dedup)\n",
    "print(\"Accuracy:\", np.sum(valid_predict_dedup == valid_labels_dedup) / float(len(valid_labels_dedup)))"
   ]
  },
  {
   "cell_type": "code",
   "execution_count": 7,
   "metadata": {
    "collapsed": true
   },
   "outputs": [],
   "source": [
    "reshaped_train_dataset_dedup2 = reshape_dataset(train_dataset_dedup2)\n",
    "reshaped_valid_dataset_dedup2 = reshape_dataset(valid_dataset_dedup2)\n",
    "reshaped_test_dataset_dedup2 = reshape_dataset(test_dataset_dedup2)"
   ]
  },
  {
   "cell_type": "code",
   "execution_count": 8,
   "metadata": {
    "collapsed": false
   },
   "outputs": [
    {
     "data": {
      "text/plain": [
       "LogisticRegression(C=1.0, class_weight=None, dual=False, fit_intercept=True,\n",
       "          intercept_scaling=1, max_iter=1000, multi_class='multinomial',\n",
       "          n_jobs=1, penalty='l2', random_state=None, solver='sag',\n",
       "          tol=0.0001, verbose=0, warm_start=False)"
      ]
     },
     "execution_count": 8,
     "metadata": {},
     "output_type": "execute_result"
    }
   ],
   "source": [
    "solver.fit(reshaped_train_dataset_dedup2[:1000], train_labels_dedup2[:1000])"
   ]
  },
  {
   "cell_type": "code",
   "execution_count": 10,
   "metadata": {
    "collapsed": false
   },
   "outputs": [
    {
     "name": "stdout",
     "output_type": "stream",
     "text": [
      "Train accuracy: 0.759204481429\n",
      "Valid accuracy: 0.752312203925\n",
      "Test accuracy: 0.821892393321\n"
     ]
    }
   ],
   "source": [
    "train_predict_dedup2 = solver.predict(reshaped_train_dataset_dedup2)\n",
    "print(\"Train accuracy:\", np.sum(train_predict_dedup2 == train_labels_dedup2) / float(len(train_labels_dedup2)))\n",
    "\n",
    "valid_predict_dedup2 = solver.predict(reshaped_valid_dataset_dedup2)\n",
    "print(\"Valid accuracy:\", np.sum(valid_predict_dedup2 == valid_labels_dedup2) / float(len(valid_labels_dedup2)))\n",
    "\n",
    "test_predict_dedup2 = solver.predict(reshaped_test_dataset_dedup2)\n",
    "print(\"Test accuracy:\", np.sum(test_predict_dedup2 == test_labels_dedup2) / float(len(test_labels_dedup2)))"
   ]
  },
  {
   "cell_type": "code",
   "execution_count": 78,
   "metadata": {
    "collapsed": false
   },
   "outputs": [
    {
     "data": {
      "text/plain": [
       "LogisticRegression(C=1.0, class_weight=None, dual=False, fit_intercept=True,\n",
       "          intercept_scaling=1, max_iter=1000, multi_class='multinomial',\n",
       "          n_jobs=1, penalty='l2', random_state=None, solver='sag',\n",
       "          tol=0.0001, verbose=0, warm_start=False)"
      ]
     },
     "execution_count": 78,
     "metadata": {},
     "output_type": "execute_result"
    }
   ],
   "source": [
    "solver.fit(data.data, data.target)"
   ]
  },
  {
   "cell_type": "code",
   "execution_count": 80,
   "metadata": {
    "collapsed": false
   },
   "outputs": [
    {
     "data": {
      "text/plain": [
       "0.97999999999999998"
      ]
     },
     "execution_count": 80,
     "metadata": {},
     "output_type": "execute_result"
    }
   ],
   "source": [
    "np.sum(solver.predict(data.data) == data.target) / float(len(data.target))"
   ]
  },
  {
   "cell_type": "code",
   "execution_count": 21,
   "metadata": {
    "collapsed": false
   },
   "outputs": [
    {
     "data": {
      "text/plain": [
       "MLPClassifier(activation='relu', alpha=1e-05, batch_size='auto', beta_1=0.9,\n",
       "       beta_2=0.999, early_stopping=False, epsilon=1e-08,\n",
       "       hidden_layer_sizes=(10, 5, 3), learning_rate='constant',\n",
       "       learning_rate_init=0.001, max_iter=2000, momentum=0.9,\n",
       "       nesterovs_momentum=True, power_t=0.5, random_state=None,\n",
       "       shuffle=True, solver='adam', tol=0.0001, validation_fraction=0.1,\n",
       "       verbose=False, warm_start=False)"
      ]
     },
     "execution_count": 21,
     "metadata": {},
     "output_type": "execute_result"
    }
   ],
   "source": [
    "from sklearn.neural_network import MLPClassifier\n",
    "clf = MLPClassifier(solver='adam', alpha=1e-5, hidden_layer_sizes=(10, 5, 3), max_iter = 2000)\n",
    "clf.fit(reshaped_train_dataset_dedup2, train_labels_dedup2)"
   ]
  },
  {
   "cell_type": "code",
   "execution_count": 19,
   "metadata": {
    "collapsed": false
   },
   "outputs": [
    {
     "name": "stdout",
     "output_type": "stream",
     "text": [
      "Train accuracy: 0.743043817449\n",
      "Valid accuracy: 0.724791337695\n",
      "Test accuracy: 0.808557513915\n"
     ]
    }
   ],
   "source": [
    "train_predict_dedup2 = clf.predict(reshaped_train_dataset_dedup2)\n",
    "print(\"Train accuracy:\", np.sum(train_predict_dedup2 == train_labels_dedup2) / float(len(train_labels_dedup2)))\n",
    "\n",
    "valid_predict_dedup2 = clf.predict(reshaped_valid_dataset_dedup2)\n",
    "print(\"Valid accuracy:\", np.sum(valid_predict_dedup2 == valid_labels_dedup2) / float(len(valid_labels_dedup2)))\n",
    "\n",
    "test_predict_dedup2 = clf.predict(reshaped_test_dataset_dedup2)\n",
    "print(\"Test accuracy:\", np.sum(test_predict_dedup2 == test_labels_dedup2) / float(len(test_labels_dedup2)))"
   ]
  },
  {
   "cell_type": "code",
   "execution_count": 23,
   "metadata": {
    "collapsed": false
   },
   "outputs": [
    {
     "data": {
      "text/plain": [
       "0.81998439734754913"
      ]
     },
     "execution_count": 23,
     "metadata": {},
     "output_type": "execute_result"
    }
   ],
   "source": [
    "clf.score(reshaped_train_dataset_dedup2, train_labels_dedup2)"
   ]
  },
  {
   "cell_type": "code",
   "execution_count": 24,
   "metadata": {
    "collapsed": false
   },
   "outputs": [
    {
     "data": {
      "text/plain": [
       "0.80036092939318748"
      ]
     },
     "execution_count": 24,
     "metadata": {},
     "output_type": "execute_result"
    }
   ],
   "source": [
    "clf.score(reshaped_valid_dataset_dedup2, valid_labels_dedup2)"
   ]
  },
  {
   "cell_type": "code",
   "execution_count": 25,
   "metadata": {
    "collapsed": false
   },
   "outputs": [
    {
     "data": {
      "text/plain": [
       "0.87418831168831168"
      ]
     },
     "execution_count": 25,
     "metadata": {},
     "output_type": "execute_result"
    }
   ],
   "source": [
    "clf.score(reshaped_test_dataset_dedup2, test_labels_dedup2)"
   ]
  },
  {
   "cell_type": "code",
   "execution_count": 95,
   "metadata": {
    "collapsed": false,
    "scrolled": true
   },
   "outputs": [
    {
     "name": "stdout",
     "output_type": "stream",
     "text": [
      "Examining example #7490\n",
      "Predict answer: C\n",
      "Correct answer: C\n",
      "Confidence (prob of correct): 0.990749784745\n"
     ]
    },
    {
     "data": {
      "image/png": "[encoded data removed]",
      "text/plain": [
       "<matplotlib.figure.Figure at 0x7f34766d51d0>"
      ]
     },
     "metadata": {},
     "output_type": "display_data"
    }
   ],
   "source": [
    "np.set_printoptions(suppress=True)\n",
    "i = np.random.randint(0, reshaped_valid_dataset_dedup2.shape[0])\n",
    "print(\"Examining example #%d\" % i)\n",
    "predict = np.squeeze(clf.predict(reshape_example(reshaped_valid_dataset_dedup2[i])))\n",
    "print(\"Predict answer:\", alpha_map[predict])\n",
    "print(\"Correct answer:\", alpha_map[valid_labels_dedup2[i]])\n",
    "prob = np.squeeze(clf.predict_proba(reshape_example(reshaped_valid_dataset_dedup2[i])))\n",
    "# print(\"Predict probabilities:\", prob)\n",
    "print(\"Confidence (prob of correct):\", prob[predict])\n",
    "plt.imshow(valid_dataset_dedup2[i], cmap='gray')\n",
    "plt.show()"
   ]
  },
  {
   "cell_type": "code",
   "execution_count": 96,
   "metadata": {
    "collapsed": false
   },
   "outputs": [
    {
     "data": {
      "text/plain": [
       "MLPClassifier(activation='relu', alpha=1e-05, batch_size='auto', beta_1=0.9,\n",
       "       beta_2=0.999, early_stopping=False, epsilon=1e-08,\n",
       "       hidden_layer_sizes=(15, 10, 10, 5), learning_rate='constant',\n",
       "       learning_rate_init=0.001, max_iter=2000, momentum=0.9,\n",
       "       nesterovs_momentum=True, power_t=0.5, random_state=None,\n",
       "       shuffle=True, solver='adam', tol=0.0001, validation_fraction=0.1,\n",
       "       verbose=False, warm_start=False)"
      ]
     },
     "execution_count": 96,
     "metadata": {},
     "output_type": "execute_result"
    }
   ],
   "source": [
    "clf2 = MLPClassifier(solver='adam', alpha=1e-5, hidden_layer_sizes=(15, 10, 10, 5), max_iter = 2000)\n",
    "clf2.fit(reshaped_train_dataset_dedup2, train_labels_dedup2)"
   ]
  },
  {
   "cell_type": "code",
   "execution_count": 97,
   "metadata": {
    "collapsed": false
   },
   "outputs": [
    {
     "name": "stdout",
     "output_type": "stream",
     "text": [
      "Train accuracy: 0.867111992372\n",
      "Valid accuracy: 0.848748026167\n"
     ]
    }
   ],
   "source": [
    "print(\"Train accuracy:\", clf2.score(reshaped_train_dataset_dedup2, train_labels_dedup2))\n",
    "print(\"Valid accuracy:\", clf2.score(reshaped_valid_dataset_dedup2, valid_labels_dedup2))"
   ]
  },
  {
   "cell_type": "code",
   "execution_count": 98,
   "metadata": {
    "collapsed": false
   },
   "outputs": [
    {
     "data": {
      "text/plain": [
       "MLPClassifier(activation='relu', alpha=1e-05, batch_size='auto', beta_1=0.9,\n",
       "       beta_2=0.999, early_stopping=False, epsilon=1e-08,\n",
       "       hidden_layer_sizes=(15, 10, 10, 10, 10, 10, 5),\n",
       "       learning_rate='constant', learning_rate_init=0.001, max_iter=2000,\n",
       "       momentum=0.9, nesterovs_momentum=True, power_t=0.5,\n",
       "       random_state=None, shuffle=True, solver='adam', tol=0.0001,\n",
       "       validation_fraction=0.1, verbose=False, warm_start=False)"
      ]
     },
     "execution_count": 98,
     "metadata": {},
     "output_type": "execute_result"
    }
   ],
   "source": [
    "clf3 = MLPClassifier(solver='adam', alpha=1e-5, hidden_layer_sizes=(15, 10, 10, 10, 10, 10, 5), max_iter = 2000)\n",
    "clf3.fit(reshaped_train_dataset_dedup2, train_labels_dedup2)"
   ]
  },
  {
   "cell_type": "code",
   "execution_count": 99,
   "metadata": {
    "collapsed": false
   },
   "outputs": [
    {
     "name": "stdout",
     "output_type": "stream",
     "text": [
      "Train accuracy: 0.866180167295\n",
      "Valid accuracy: 0.84795849312\n"
     ]
    }
   ],
   "source": [
    "print(\"Train accuracy:\", clf3.score(reshaped_train_dataset_dedup2, train_labels_dedup2))\n",
    "print(\"Valid accuracy:\", clf3.score(reshaped_valid_dataset_dedup2, valid_labels_dedup2))"
   ]
  },
  {
   "cell_type": "code",
   "execution_count": null,
   "metadata": {
    "collapsed": true
   },
   "outputs": [],
   "source": [
    "clf4 = MLPClassifier(solver='adam', alpha=1e-5, hidden_layer_sizes=(15, 10, 10, 10, 10, 10, 5), max_iter = 2000, learning_rate_init = 0.01)\n",
    "clf4.fit(reshaped_train_dataset_dedup2, train_labels_dedup2)"
   ]
  },
  {
   "cell_type": "code",
   "execution_count": null,
   "metadata": {
    "collapsed": true
   },
   "outputs": [],
   "source": []
  }
 ],
 "metadata": {
  "colab": {
   "default_view": {},
   "name": "1_notmnist.ipynb",
   "provenance": [],
   "version": "0.3.2",
   "views": {}
  },
  "kernelspec": {
   "display_name": "Python 2",
   "language": "python",
   "name": "python2"
  },
  "language_info": {
   "codemirror_mode": {
    "name": "ipython",
    "version": 2
   },
   "file_extension": ".py",
   "mimetype": "text/x-python",
   "name": "python",
   "nbconvert_exporter": "python",
   "pygments_lexer": "ipython2",
   "version": "2.7.6"
  }
 },
 "nbformat": 4,
 "nbformat_minor": 0
}
